{
 "cells": [
  {
   "cell_type": "code",
   "execution_count": 1,
   "id": "cec79299",
   "metadata": {
    "_cell_guid": "b1076dfc-b9ad-4769-8c92-a6c4dae69d19",
    "_uuid": "8f2839f25d086af736a60e9eeb907d3b93b6e0e5",
    "execution": {
     "iopub.execute_input": "2022-03-21T21:31:56.794533Z",
     "iopub.status.busy": "2022-03-21T21:31:56.793840Z",
     "iopub.status.idle": "2022-03-21T21:31:56.807329Z",
     "shell.execute_reply": "2022-03-21T21:31:56.807957Z",
     "shell.execute_reply.started": "2022-03-21T21:30:58.981219Z"
    },
    "papermill": {
     "duration": 0.065804,
     "end_time": "2022-03-21T21:31:56.808258",
     "exception": false,
     "start_time": "2022-03-21T21:31:56.742454",
     "status": "completed"
    },
    "tags": []
   },
   "outputs": [],
   "source": [
    "# This Python 3 environment comes with many helpful analytics libraries installed\n",
    "# It is defined by the kaggle/python Docker image: https://github.com/kaggle/docker-python\n",
    "# For example, here's several helpful packages to load\n",
    "\n",
    "import numpy as np # linear algebra\n",
    "import pandas as pd # data processing, CSV file I/O (e.g. pd.read_csv)\n",
    "\n",
    "# Input data files are available in the read-only \"../input/\" directory\n",
    "# For example, running this (by clicking run or pressing Shift+Enter) will list all files under the input directory\n",
    "\n",
    "import os\n",
    "for dirname, _, filenames in os.walk('/kaggle/input'):\n",
    "    for filename in filenames:\n",
    "        print(os.path.join(dirname, filename))\n",
    "\n",
    "# You can write up to 20GB to the current directory (/kaggle/working/) that gets preserved as output when you create a version using \"Save & Run All\" \n",
    "# You can also write temporary files to /kaggle/temp/, but they won't be saved outside of the current session"
   ]
  },
  {
   "cell_type": "code",
   "execution_count": 2,
   "id": "f94e7df6",
   "metadata": {
    "execution": {
     "iopub.execute_input": "2022-03-21T21:31:56.896153Z",
     "iopub.status.busy": "2022-03-21T21:31:56.895540Z",
     "iopub.status.idle": "2022-03-21T21:31:57.724718Z",
     "shell.execute_reply": "2022-03-21T21:31:57.725188Z",
     "shell.execute_reply.started": "2022-03-21T21:30:58.994769Z"
    },
    "papermill": {
     "duration": 0.874925,
     "end_time": "2022-03-21T21:31:57.725361",
     "exception": false,
     "start_time": "2022-03-21T21:31:56.850436",
     "status": "completed"
    },
    "tags": []
   },
   "outputs": [],
   "source": [
    "## download the librairies : \n",
    "import matplotlib.pyplot as plt\n",
    "import seaborn as sns\n",
    "\n",
    "import math  \n",
    "\n",
    "import warnings\n",
    "warnings.filterwarnings(\"ignore\")"
   ]
  },
  {
   "cell_type": "code",
   "execution_count": 3,
   "id": "ad9f1ea4",
   "metadata": {
    "execution": {
     "iopub.execute_input": "2022-03-21T21:31:57.804367Z",
     "iopub.status.busy": "2022-03-21T21:31:57.803770Z",
     "iopub.status.idle": "2022-03-21T21:32:01.769788Z",
     "shell.execute_reply": "2022-03-21T21:32:01.769212Z",
     "shell.execute_reply.started": "2022-03-21T21:30:59.001778Z"
    },
    "papermill": {
     "duration": 4.007567,
     "end_time": "2022-03-21T21:32:01.769951",
     "exception": false,
     "start_time": "2022-03-21T21:31:57.762384",
     "status": "completed"
    },
    "tags": []
   },
   "outputs": [],
   "source": [
    "## download the dataset : \n",
    "\n",
    "campaign_desc = pd.read_csv(\"D:\\\\Documents\\\\Qua môn\\\\Datawarehouse&BI\\\\extracted_files\\\\campaign_desc.csv\")\n",
    "campaign_table = pd.read_csv(\"D:\\\\Documents\\\\Qua môn\\\\Datawarehouse&BI\\\\extracted_files\\\\campaign_table.csv\")\n",
    "casual = pd.read_csv(\"D:\\\\Documents\\\\Qua môn\\Datawarehouse&BI\\extracted_files\\\\causal_data.csv\")\n",
    "coupon = pd.read_csv(\"D:\\\\Documents\\\\Qua môn\\\\Datawarehouse&BI\\\\extracted_files\\\\coupon.csv\")\n",
    "coupon_redempt = pd.read_csv(\"D:\\\\Documents\\\\Qua môn\\\\Datawarehouse&BI\\\\extracted_files\\\\coupon_redempt.csv\")\n",
    "hh_demographic = pd.read_csv(\"D:\\\\Documents\\\\Qua môn\\\\Datawarehouse&BI\\\\extracted_files\\\\hh_demographic.csv\")\n",
    "product = pd.read_csv(\"D:\\\\Documents\\\\Qua môn\\\\Datawarehouse&BI\\\\extracted_files\\\\product.csv\")\n",
    "transaction_data = pd.read_csv(\"D:\\\\Documents\\\\Qua môn\\\\Datawarehouse&BI\\\\extracted_files\\\\transaction_data.csv\")"
   ]
  },
  {
   "cell_type": "markdown",
   "id": "c6b12d76",
   "metadata": {
    "papermill": {
     "duration": 0.038963,
     "end_time": "2022-03-21T21:32:01.850194",
     "exception": false,
     "start_time": "2022-03-21T21:32:01.811231",
     "status": "completed"
    },
    "tags": []
   },
   "source": [
    "**Campaign_desc Table :** "
   ]
  },
  {
   "cell_type": "markdown",
   "id": "920cc28c",
   "metadata": {
    "papermill": {
     "duration": 0.036967,
     "end_time": "2022-03-21T21:32:01.925446",
     "exception": false,
     "start_time": "2022-03-21T21:32:01.888479",
     "status": "completed"
    },
    "tags": []
   },
   "source": [
    "As we known from the campaign_desc table, this retailer had organized 30 campaigns during the time. We will have a look about their distribution. "
   ]
  },
  {
   "cell_type": "code",
   "execution_count": 4,
   "id": "86799ec4",
   "metadata": {
    "execution": {
     "iopub.execute_input": "2022-03-21T21:32:02.007208Z",
     "iopub.status.busy": "2022-03-21T21:32:02.006598Z",
     "iopub.status.idle": "2022-03-21T21:32:02.017836Z",
     "shell.execute_reply": "2022-03-21T21:32:02.018278Z",
     "shell.execute_reply.started": "2022-03-21T21:31:01.338865Z"
    },
    "papermill": {
     "duration": 0.056013,
     "end_time": "2022-03-21T21:32:02.018422",
     "exception": false,
     "start_time": "2022-03-21T21:32:01.962409",
     "status": "completed"
    },
    "tags": []
   },
   "outputs": [
    {
     "data": {
      "text/html": [
       "<div>\n",
       "<style scoped>\n",
       "    .dataframe tbody tr th:only-of-type {\n",
       "        vertical-align: middle;\n",
       "    }\n",
       "\n",
       "    .dataframe tbody tr th {\n",
       "        vertical-align: top;\n",
       "    }\n",
       "\n",
       "    .dataframe thead th {\n",
       "        text-align: right;\n",
       "    }\n",
       "</style>\n",
       "<table border=\"1\" class=\"dataframe\">\n",
       "  <thead>\n",
       "    <tr style=\"text-align: right;\">\n",
       "      <th></th>\n",
       "      <th>DESCRIPTION</th>\n",
       "      <th>CAMPAIGN</th>\n",
       "      <th>START_DAY</th>\n",
       "      <th>END_DAY</th>\n",
       "    </tr>\n",
       "  </thead>\n",
       "  <tbody>\n",
       "    <tr>\n",
       "      <th>0</th>\n",
       "      <td>TypeB</td>\n",
       "      <td>24</td>\n",
       "      <td>659</td>\n",
       "      <td>719</td>\n",
       "    </tr>\n",
       "    <tr>\n",
       "      <th>1</th>\n",
       "      <td>TypeC</td>\n",
       "      <td>15</td>\n",
       "      <td>547</td>\n",
       "      <td>708</td>\n",
       "    </tr>\n",
       "    <tr>\n",
       "      <th>2</th>\n",
       "      <td>TypeB</td>\n",
       "      <td>25</td>\n",
       "      <td>659</td>\n",
       "      <td>691</td>\n",
       "    </tr>\n",
       "    <tr>\n",
       "      <th>3</th>\n",
       "      <td>TypeC</td>\n",
       "      <td>20</td>\n",
       "      <td>615</td>\n",
       "      <td>685</td>\n",
       "    </tr>\n",
       "    <tr>\n",
       "      <th>4</th>\n",
       "      <td>TypeB</td>\n",
       "      <td>23</td>\n",
       "      <td>646</td>\n",
       "      <td>684</td>\n",
       "    </tr>\n",
       "  </tbody>\n",
       "</table>\n",
       "</div>"
      ],
      "text/plain": [
       "  DESCRIPTION  CAMPAIGN  START_DAY  END_DAY\n",
       "0       TypeB        24        659      719\n",
       "1       TypeC        15        547      708\n",
       "2       TypeB        25        659      691\n",
       "3       TypeC        20        615      685\n",
       "4       TypeB        23        646      684"
      ]
     },
     "execution_count": 4,
     "metadata": {},
     "output_type": "execute_result"
    }
   ],
   "source": [
    "campaign_desc.head()"
   ]
  },
  {
   "cell_type": "code",
   "execution_count": 5,
   "id": "77ab4e63",
   "metadata": {
    "execution": {
     "iopub.execute_input": "2022-03-21T21:32:02.103899Z",
     "iopub.status.busy": "2022-03-21T21:32:02.102239Z",
     "iopub.status.idle": "2022-03-21T21:32:02.105905Z",
     "shell.execute_reply": "2022-03-21T21:32:02.105442Z",
     "shell.execute_reply.started": "2022-03-21T21:31:01.350098Z"
    },
    "papermill": {
     "duration": 0.050464,
     "end_time": "2022-03-21T21:32:02.106023",
     "exception": false,
     "start_time": "2022-03-21T21:32:02.055559",
     "status": "completed"
    },
    "tags": []
   },
   "outputs": [
    {
     "name": "stdout",
     "output_type": "stream",
     "text": [
      "The average time duration for a campaign is 46.6 days.\n"
     ]
    }
   ],
   "source": [
    "## the time duration for each campaign : \n",
    "campaign_desc['DURATION'] = campaign_desc['END_DAY'] - campaign_desc['START_DAY']\n",
    "print('The average time duration for a campaign is '+str(campaign_desc['DURATION'].mean())+' days.')"
   ]
  },
  {
   "cell_type": "code",
   "execution_count": 6,
   "id": "f567e8f8",
   "metadata": {
    "execution": {
     "iopub.execute_input": "2022-03-21T21:32:02.214101Z",
     "iopub.status.busy": "2022-03-21T21:32:02.185553Z",
     "iopub.status.idle": "2022-03-21T21:32:02.639775Z",
     "shell.execute_reply": "2022-03-21T21:32:02.640178Z",
     "shell.execute_reply.started": "2022-03-21T21:31:01.363368Z"
    },
    "papermill": {
     "duration": 0.496932,
     "end_time": "2022-03-21T21:32:02.640328",
     "exception": false,
     "start_time": "2022-03-21T21:32:02.143396",
     "status": "completed"
    },
    "tags": []
   },
   "outputs": [
    {
     "name": "stderr",
     "output_type": "stream",
     "text": [
      "No artists with labels found to put in legend.  Note that artists whose label start with an underscore are ignored when legend() is called with no argument.\n"
     ]
    },
    {
     "data": {
      "text/plain": [
       "<matplotlib.legend.Legend at 0x17a4ae2b090>"
      ]
     },
     "execution_count": 6,
     "metadata": {},
     "output_type": "execute_result"
    },
    {
     "data": {
      "image/png": "[encoded data removed]",
      "text/plain": [
       "<Figure size 1500x500 with 1 Axes>"
      ]
     },
     "metadata": {},
     "output_type": "display_data"
    }
   ],
   "source": [
    "campaign_desc = campaign_desc.sort_values('CAMPAIGN')\n",
    "\n",
    "plt.figure(figsize = (15,5))\n",
    "sns.barplot(x='CAMPAIGN', y = 'DURATION', data = campaign_desc)\n",
    "plt.title('Duration of each campaign', fontsize = 20)\n",
    "plt.legend()"
   ]
  },
  {
   "cell_type": "markdown",
   "id": "7e8be6a3",
   "metadata": {
    "papermill": {
     "duration": 0.038622,
     "end_time": "2022-03-21T21:32:02.717685",
     "exception": false,
     "start_time": "2022-03-21T21:32:02.679063",
     "status": "completed"
    },
    "tags": []
   },
   "source": [
    "Campaign 15 lasted more than 160 days. The average campaign length is 46.6 days."
   ]
  },
  {
   "cell_type": "code",
   "execution_count": 7,
   "id": "22b176e8",
   "metadata": {
    "execution": {
     "iopub.execute_input": "2022-03-21T21:32:02.815210Z",
     "iopub.status.busy": "2022-03-21T21:32:02.814537Z",
     "iopub.status.idle": "2022-03-21T21:32:02.818555Z",
     "shell.execute_reply": "2022-03-21T21:32:02.818950Z",
     "shell.execute_reply.started": "2022-03-21T21:31:01.788397Z"
    },
    "papermill": {
     "duration": 0.06279,
     "end_time": "2022-03-21T21:32:02.819089",
     "exception": false,
     "start_time": "2022-03-21T21:32:02.756299",
     "status": "completed"
    },
    "tags": []
   },
   "outputs": [
    {
     "data": {
      "text/html": [
       "<div>\n",
       "<style scoped>\n",
       "    .dataframe tbody tr th:only-of-type {\n",
       "        vertical-align: middle;\n",
       "    }\n",
       "\n",
       "    .dataframe tbody tr th {\n",
       "        vertical-align: top;\n",
       "    }\n",
       "\n",
       "    .dataframe thead th {\n",
       "        text-align: right;\n",
       "    }\n",
       "</style>\n",
       "<table border=\"1\" class=\"dataframe\">\n",
       "  <thead>\n",
       "    <tr style=\"text-align: right;\">\n",
       "      <th></th>\n",
       "      <th>DESCRIPTION</th>\n",
       "      <th>nb_campaign</th>\n",
       "      <th>avg_duration</th>\n",
       "    </tr>\n",
       "  </thead>\n",
       "  <tbody>\n",
       "    <tr>\n",
       "      <th>0</th>\n",
       "      <td>TypeA</td>\n",
       "      <td>5</td>\n",
       "      <td>47.200000</td>\n",
       "    </tr>\n",
       "    <tr>\n",
       "      <th>1</th>\n",
       "      <td>TypeB</td>\n",
       "      <td>19</td>\n",
       "      <td>37.631579</td>\n",
       "    </tr>\n",
       "    <tr>\n",
       "      <th>2</th>\n",
       "      <td>TypeC</td>\n",
       "      <td>6</td>\n",
       "      <td>74.500000</td>\n",
       "    </tr>\n",
       "  </tbody>\n",
       "</table>\n",
       "</div>"
      ],
      "text/plain": [
       "  DESCRIPTION  nb_campaign  avg_duration\n",
       "0       TypeA            5     47.200000\n",
       "1       TypeB           19     37.631579\n",
       "2       TypeC            6     74.500000"
      ]
     },
     "execution_count": 7,
     "metadata": {},
     "output_type": "execute_result"
    }
   ],
   "source": [
    "campaign_dist = campaign_desc.groupby('DESCRIPTION',as_index=False).agg(nb_campaign = ('CAMPAIGN', 'count'), avg_duration = ('DURATION','mean'))\n",
    "campaign_dist"
   ]
  },
  {
   "cell_type": "markdown",
   "id": "d1dca146",
   "metadata": {
    "papermill": {
     "duration": 0.039061,
     "end_time": "2022-03-21T21:32:02.897407",
     "exception": false,
     "start_time": "2022-03-21T21:32:02.858346",
     "status": "completed"
    },
    "tags": []
   },
   "source": [
    "There have been 19 type B campaigns, whose average length was 38 days. In comparison, there has been 6 type C campaigns of 75 days on average."
   ]
  },
  {
   "cell_type": "markdown",
   "id": "d453f3db",
   "metadata": {
    "papermill": {
     "duration": 0.039041,
     "end_time": "2022-03-21T21:32:02.975572",
     "exception": false,
     "start_time": "2022-03-21T21:32:02.936531",
     "status": "completed"
    },
    "tags": []
   },
   "source": [
    "**campaign_table Table :**"
   ]
  },
  {
   "cell_type": "code",
   "execution_count": 8,
   "id": "462fefcf",
   "metadata": {
    "execution": {
     "iopub.execute_input": "2022-03-21T21:32:03.063205Z",
     "iopub.status.busy": "2022-03-21T21:32:03.062291Z",
     "iopub.status.idle": "2022-03-21T21:32:03.066124Z",
     "shell.execute_reply": "2022-03-21T21:32:03.066541Z",
     "shell.execute_reply.started": "2022-03-21T21:31:01.810108Z"
    },
    "papermill": {
     "duration": 0.051249,
     "end_time": "2022-03-21T21:32:03.066671",
     "exception": false,
     "start_time": "2022-03-21T21:32:03.015422",
     "status": "completed"
    },
    "tags": []
   },
   "outputs": [
    {
     "data": {
      "text/html": [
       "<div>\n",
       "<style scoped>\n",
       "    .dataframe tbody tr th:only-of-type {\n",
       "        vertical-align: middle;\n",
       "    }\n",
       "\n",
       "    .dataframe tbody tr th {\n",
       "        vertical-align: top;\n",
       "    }\n",
       "\n",
       "    .dataframe thead th {\n",
       "        text-align: right;\n",
       "    }\n",
       "</style>\n",
       "<table border=\"1\" class=\"dataframe\">\n",
       "  <thead>\n",
       "    <tr style=\"text-align: right;\">\n",
       "      <th></th>\n",
       "      <th>DESCRIPTION</th>\n",
       "      <th>household_key</th>\n",
       "      <th>CAMPAIGN</th>\n",
       "    </tr>\n",
       "  </thead>\n",
       "  <tbody>\n",
       "    <tr>\n",
       "      <th>0</th>\n",
       "      <td>TypeA</td>\n",
       "      <td>17</td>\n",
       "      <td>26</td>\n",
       "    </tr>\n",
       "    <tr>\n",
       "      <th>1</th>\n",
       "      <td>TypeA</td>\n",
       "      <td>27</td>\n",
       "      <td>26</td>\n",
       "    </tr>\n",
       "    <tr>\n",
       "      <th>2</th>\n",
       "      <td>TypeA</td>\n",
       "      <td>212</td>\n",
       "      <td>26</td>\n",
       "    </tr>\n",
       "    <tr>\n",
       "      <th>3</th>\n",
       "      <td>TypeA</td>\n",
       "      <td>208</td>\n",
       "      <td>26</td>\n",
       "    </tr>\n",
       "    <tr>\n",
       "      <th>4</th>\n",
       "      <td>TypeA</td>\n",
       "      <td>192</td>\n",
       "      <td>26</td>\n",
       "    </tr>\n",
       "  </tbody>\n",
       "</table>\n",
       "</div>"
      ],
      "text/plain": [
       "  DESCRIPTION  household_key  CAMPAIGN\n",
       "0       TypeA             17        26\n",
       "1       TypeA             27        26\n",
       "2       TypeA            212        26\n",
       "3       TypeA            208        26\n",
       "4       TypeA            192        26"
      ]
     },
     "execution_count": 8,
     "metadata": {},
     "output_type": "execute_result"
    }
   ],
   "source": [
    "campaign_table.head()"
   ]
  },
  {
   "cell_type": "code",
   "execution_count": 9,
   "id": "f1605dc0",
   "metadata": {
    "execution": {
     "iopub.execute_input": "2022-03-21T21:32:03.150612Z",
     "iopub.status.busy": "2022-03-21T21:32:03.149758Z",
     "iopub.status.idle": "2022-03-21T21:32:03.154660Z",
     "shell.execute_reply": "2022-03-21T21:32:03.154225Z",
     "shell.execute_reply.started": "2022-03-21T21:31:01.819311Z"
    },
    "papermill": {
     "duration": 0.048409,
     "end_time": "2022-03-21T21:32:03.154767",
     "exception": false,
     "start_time": "2022-03-21T21:32:03.106358",
     "status": "completed"
    },
    "tags": []
   },
   "outputs": [
    {
     "name": "stdout",
     "output_type": "stream",
     "text": [
      "There are 1584 households have participed to the campaign, leaving 916 households who never participated to any campaign.\n"
     ]
    }
   ],
   "source": [
    "print('There are '+str(campaign_table['household_key'].nunique())+' households have participed to the campaign, leaving '+str(2500-campaign_table['household_key'].nunique())+' households who never participated to any campaign.')\n"
   ]
  },
  {
   "cell_type": "code",
   "execution_count": 10,
   "id": "8d1541d0",
   "metadata": {
    "execution": {
     "iopub.execute_input": "2022-03-21T21:32:03.245321Z",
     "iopub.status.busy": "2022-03-21T21:32:03.244457Z",
     "iopub.status.idle": "2022-03-21T21:32:03.542093Z",
     "shell.execute_reply": "2022-03-21T21:32:03.542781Z",
     "shell.execute_reply.started": "2022-03-21T21:31:01.831440Z"
    },
    "papermill": {
     "duration": 0.348035,
     "end_time": "2022-03-21T21:32:03.542961",
     "exception": false,
     "start_time": "2022-03-21T21:32:03.194926",
     "status": "completed"
    },
    "tags": []
   },
   "outputs": [
    {
     "data": {
      "text/plain": [
       "Text(0.5, 1.0, 'Nb of households by nb of campaigns they participated to')"
      ]
     },
     "execution_count": 10,
     "metadata": {},
     "output_type": "execute_result"
    },
    {
     "data": {
      "image/png": "[encoded data removed]",
      "text/plain": [
       "<Figure size 1500x500 with 1 Axes>"
      ]
     },
     "metadata": {},
     "output_type": "display_data"
    }
   ],
   "source": [
    "caipaign_per_hh = campaign_table.groupby('household_key',as_index=False).agg(nb_campaign = ('CAMPAIGN','count'))\n",
    "nb_campaign = caipaign_per_hh.groupby('nb_campaign',as_index=False).agg(nb_householder = ('household_key','count'))\n",
    "\n",
    "df = pd.DataFrame([[0, 916]], columns=['nb_campaign','nb_householder'])\n",
    "\n",
    "nb_campaign = pd.concat([df, nb_campaign])\n",
    "nb_campaign.reset_index(drop=True)\n",
    "\n",
    "plt.figure(figsize = (15,5))\n",
    "sns.barplot(x='nb_campaign', y = 'nb_householder', data = nb_campaign)\n",
    "plt.title('Nb of households by nb of campaigns they participated to', fontsize = 20)"
   ]
  },
  {
   "cell_type": "code",
   "execution_count": 11,
   "id": "ab4a1f98",
   "metadata": {
    "execution": {
     "iopub.execute_input": "2022-03-21T21:32:03.635699Z",
     "iopub.status.busy": "2022-03-21T21:32:03.635074Z",
     "iopub.status.idle": "2022-03-21T21:32:03.637915Z",
     "shell.execute_reply": "2022-03-21T21:32:03.638336Z",
     "shell.execute_reply.started": "2022-03-21T21:31:02.135282Z"
    },
    "papermill": {
     "duration": 0.054318,
     "end_time": "2022-03-21T21:32:03.638472",
     "exception": false,
     "start_time": "2022-03-21T21:32:03.584154",
     "status": "completed"
    },
    "tags": []
   },
   "outputs": [
    {
     "data": {
      "text/html": [
       "<div>\n",
       "<style scoped>\n",
       "    .dataframe tbody tr th:only-of-type {\n",
       "        vertical-align: middle;\n",
       "    }\n",
       "\n",
       "    .dataframe tbody tr th {\n",
       "        vertical-align: top;\n",
       "    }\n",
       "\n",
       "    .dataframe thead th {\n",
       "        text-align: right;\n",
       "    }\n",
       "</style>\n",
       "<table border=\"1\" class=\"dataframe\">\n",
       "  <thead>\n",
       "    <tr style=\"text-align: right;\">\n",
       "      <th></th>\n",
       "      <th>COUPON_UPC</th>\n",
       "      <th>PRODUCT_ID</th>\n",
       "      <th>CAMPAIGN</th>\n",
       "    </tr>\n",
       "  </thead>\n",
       "  <tbody>\n",
       "    <tr>\n",
       "      <th>0</th>\n",
       "      <td>10000089061</td>\n",
       "      <td>27160</td>\n",
       "      <td>4</td>\n",
       "    </tr>\n",
       "    <tr>\n",
       "      <th>1</th>\n",
       "      <td>10000089064</td>\n",
       "      <td>27754</td>\n",
       "      <td>9</td>\n",
       "    </tr>\n",
       "    <tr>\n",
       "      <th>2</th>\n",
       "      <td>10000089073</td>\n",
       "      <td>28897</td>\n",
       "      <td>12</td>\n",
       "    </tr>\n",
       "    <tr>\n",
       "      <th>3</th>\n",
       "      <td>51800009050</td>\n",
       "      <td>28919</td>\n",
       "      <td>28</td>\n",
       "    </tr>\n",
       "    <tr>\n",
       "      <th>4</th>\n",
       "      <td>52100000076</td>\n",
       "      <td>28929</td>\n",
       "      <td>25</td>\n",
       "    </tr>\n",
       "  </tbody>\n",
       "</table>\n",
       "</div>"
      ],
      "text/plain": [
       "    COUPON_UPC  PRODUCT_ID  CAMPAIGN\n",
       "0  10000089061       27160         4\n",
       "1  10000089064       27754         9\n",
       "2  10000089073       28897        12\n",
       "3  51800009050       28919        28\n",
       "4  52100000076       28929        25"
      ]
     },
     "execution_count": 11,
     "metadata": {},
     "output_type": "execute_result"
    }
   ],
   "source": [
    "coupon.head()"
   ]
  },
  {
   "cell_type": "code",
   "execution_count": 12,
   "id": "d914f1e9",
   "metadata": {
    "execution": {
     "iopub.execute_input": "2022-03-21T21:32:03.734998Z",
     "iopub.status.busy": "2022-03-21T21:32:03.730938Z",
     "iopub.status.idle": "2022-03-21T21:32:03.768503Z",
     "shell.execute_reply": "2022-03-21T21:32:03.768928Z",
     "shell.execute_reply.started": "2022-03-21T21:31:02.146014Z"
    },
    "papermill": {
     "duration": 0.086997,
     "end_time": "2022-03-21T21:32:03.769075",
     "exception": false,
     "start_time": "2022-03-21T21:32:03.682078",
     "status": "completed"
    },
    "tags": []
   },
   "outputs": [
    {
     "data": {
      "text/html": [
       "<div>\n",
       "<style scoped>\n",
       "    .dataframe tbody tr th:only-of-type {\n",
       "        vertical-align: middle;\n",
       "    }\n",
       "\n",
       "    .dataframe tbody tr th {\n",
       "        vertical-align: top;\n",
       "    }\n",
       "\n",
       "    .dataframe thead th {\n",
       "        text-align: right;\n",
       "    }\n",
       "</style>\n",
       "<table border=\"1\" class=\"dataframe\">\n",
       "  <thead>\n",
       "    <tr style=\"text-align: right;\">\n",
       "      <th></th>\n",
       "      <th>nb_coupon</th>\n",
       "      <th>nb_product</th>\n",
       "    </tr>\n",
       "    <tr>\n",
       "      <th>CAMPAIGN</th>\n",
       "      <th></th>\n",
       "      <th></th>\n",
       "    </tr>\n",
       "  </thead>\n",
       "  <tbody>\n",
       "    <tr>\n",
       "      <th>13</th>\n",
       "      <td>207</td>\n",
       "      <td>35616</td>\n",
       "    </tr>\n",
       "    <tr>\n",
       "      <th>18</th>\n",
       "      <td>209</td>\n",
       "      <td>35513</td>\n",
       "    </tr>\n",
       "    <tr>\n",
       "      <th>8</th>\n",
       "      <td>209</td>\n",
       "      <td>17178</td>\n",
       "    </tr>\n",
       "    <tr>\n",
       "      <th>26</th>\n",
       "      <td>181</td>\n",
       "      <td>3396</td>\n",
       "    </tr>\n",
       "    <tr>\n",
       "      <th>30</th>\n",
       "      <td>181</td>\n",
       "      <td>3205</td>\n",
       "    </tr>\n",
       "  </tbody>\n",
       "</table>\n",
       "</div>"
      ],
      "text/plain": [
       "          nb_coupon  nb_product\n",
       "CAMPAIGN                       \n",
       "13              207       35616\n",
       "18              209       35513\n",
       "8               209       17178\n",
       "26              181        3396\n",
       "30              181        3205"
      ]
     },
     "execution_count": 12,
     "metadata": {},
     "output_type": "execute_result"
    }
   ],
   "source": [
    "## coupon composition : \n",
    "coupon.groupby('CAMPAIGN').agg(nb_coupon = ('COUPON_UPC','nunique'),nb_product = ('PRODUCT_ID','nunique')).sort_values('nb_product', ascending = False).head()"
   ]
  },
  {
   "cell_type": "markdown",
   "id": "93a23250",
   "metadata": {
    "papermill": {
     "duration": 0.042884,
     "end_time": "2022-03-21T21:32:03.856261",
     "exception": false,
     "start_time": "2022-03-21T21:32:03.813377",
     "status": "completed"
    },
    "tags": []
   },
   "source": [
    "Campaigns 13, 18 and 8 are the ones with most products in them. "
   ]
  },
  {
   "cell_type": "code",
   "execution_count": 13,
   "id": "8d314739",
   "metadata": {
    "execution": {
     "iopub.execute_input": "2022-03-21T21:32:03.950992Z",
     "iopub.status.busy": "2022-03-21T21:32:03.950056Z",
     "iopub.status.idle": "2022-03-21T21:32:04.011852Z",
     "shell.execute_reply": "2022-03-21T21:32:04.012352Z",
     "shell.execute_reply.started": "2022-03-21T21:31:02.183355Z"
    },
    "papermill": {
     "duration": 0.112197,
     "end_time": "2022-03-21T21:32:04.012509",
     "exception": false,
     "start_time": "2022-03-21T21:32:03.900312",
     "status": "completed"
    },
    "tags": []
   },
   "outputs": [
    {
     "data": {
      "text/html": [
       "<div>\n",
       "<style scoped>\n",
       "    .dataframe tbody tr th:only-of-type {\n",
       "        vertical-align: middle;\n",
       "    }\n",
       "\n",
       "    .dataframe tbody tr th {\n",
       "        vertical-align: top;\n",
       "    }\n",
       "\n",
       "    .dataframe thead th {\n",
       "        text-align: right;\n",
       "    }\n",
       "</style>\n",
       "<table border=\"1\" class=\"dataframe\">\n",
       "  <thead>\n",
       "    <tr style=\"text-align: right;\">\n",
       "      <th></th>\n",
       "      <th>COMMODITY_DESC</th>\n",
       "      <th>distinct_products</th>\n",
       "    </tr>\n",
       "  </thead>\n",
       "  <tbody>\n",
       "    <tr>\n",
       "      <th>136</th>\n",
       "      <td>HAIR CARE PRODUCTS</td>\n",
       "      <td>6261</td>\n",
       "    </tr>\n",
       "    <tr>\n",
       "      <th>163</th>\n",
       "      <td>MAKEUP AND TREATMENT</td>\n",
       "      <td>5585</td>\n",
       "    </tr>\n",
       "    <tr>\n",
       "      <th>124</th>\n",
       "      <td>FRZN MEAT/MEAT DINNERS</td>\n",
       "      <td>4893</td>\n",
       "    </tr>\n",
       "    <tr>\n",
       "      <th>118</th>\n",
       "      <td>FROZEN PIZZA</td>\n",
       "      <td>3658</td>\n",
       "    </tr>\n",
       "    <tr>\n",
       "      <th>23</th>\n",
       "      <td>BEEF</td>\n",
       "      <td>3314</td>\n",
       "    </tr>\n",
       "    <tr>\n",
       "      <th>149</th>\n",
       "      <td>ICE CREAM/MILK/SHERBTS</td>\n",
       "      <td>3257</td>\n",
       "    </tr>\n",
       "    <tr>\n",
       "      <th>47</th>\n",
       "      <td>CHEESE</td>\n",
       "      <td>3146</td>\n",
       "    </tr>\n",
       "    <tr>\n",
       "      <th>265</th>\n",
       "      <td>YOGURT</td>\n",
       "      <td>2460</td>\n",
       "    </tr>\n",
       "    <tr>\n",
       "      <th>185</th>\n",
       "      <td>ORAL HYGIENE PRODUCTS</td>\n",
       "      <td>2437</td>\n",
       "    </tr>\n",
       "    <tr>\n",
       "      <th>161</th>\n",
       "      <td>LUNCHMEAT</td>\n",
       "      <td>2425</td>\n",
       "    </tr>\n",
       "  </tbody>\n",
       "</table>\n",
       "</div>"
      ],
      "text/plain": [
       "             COMMODITY_DESC  distinct_products\n",
       "136      HAIR CARE PRODUCTS               6261\n",
       "163    MAKEUP AND TREATMENT               5585\n",
       "124  FRZN MEAT/MEAT DINNERS               4893\n",
       "118            FROZEN PIZZA               3658\n",
       "23                     BEEF               3314\n",
       "149  ICE CREAM/MILK/SHERBTS               3257\n",
       "47                   CHEESE               3146\n",
       "265                  YOGURT               2460\n",
       "185   ORAL HYGIENE PRODUCTS               2437\n",
       "161               LUNCHMEAT               2425"
      ]
     },
     "execution_count": 13,
     "metadata": {},
     "output_type": "execute_result"
    }
   ],
   "source": [
    "coupon_product = coupon.merge(right = product, on = 'PRODUCT_ID', how = 'left')\n",
    "\n",
    "coupon_commodity_groupby = coupon_product.groupby('COMMODITY_DESC', as_index = False).agg(distinct_products = ('PRODUCT_ID', 'count'))\n",
    "coupon_commodity_groupby.sort_values('distinct_products', ascending = False).head(10)"
   ]
  },
  {
   "cell_type": "code",
   "execution_count": 14,
   "id": "5f39640f",
   "metadata": {},
   "outputs": [
    {
     "data": {
      "image/png": "[encoded data removed]",
      "text/plain": [
       "<Figure size 800x800 with 1 Axes>"
      ]
     },
     "metadata": {},
     "output_type": "display_data"
    }
   ],
   "source": [
    "top_10_products = coupon_commodity_groupby.sort_values(by='distinct_products', ascending=False).head(10)\n",
    "\n",
    "# Pie chart for top 10 products\n",
    "plt.figure(figsize=(8, 8))\n",
    "plt.pie(top_10_products['distinct_products'], labels=top_10_products['COMMODITY_DESC'], autopct='%1.1f%%', startangle=90, colors=plt.cm.Paired.colors)\n",
    "\n",
    "# Adding title\n",
    "plt.title('Top 10 Products by Distinct Products')\n",
    "\n",
    "# Show the plot\n",
    "plt.show()"
   ]
  },
  {
   "cell_type": "markdown",
   "id": "c368d268",
   "metadata": {
    "papermill": {
     "duration": 0.043014,
     "end_time": "2022-03-21T21:32:04.099952",
     "exception": false,
     "start_time": "2022-03-21T21:32:04.056938",
     "status": "completed"
    },
    "tags": []
   },
   "source": [
    "Most prominent products among coupons created are bathroom products such as hair care and makeup."
   ]
  },
  {
   "cell_type": "markdown",
   "id": "af6164c4",
   "metadata": {
    "papermill": {
     "duration": 0.042064,
     "end_time": "2022-03-21T21:32:04.184173",
     "exception": false,
     "start_time": "2022-03-21T21:32:04.142109",
     "status": "completed"
    },
    "tags": []
   },
   "source": [
    "**Transaction_data Table**"
   ]
  },
  {
   "cell_type": "code",
   "execution_count": 15,
   "id": "87ec79d4",
   "metadata": {
    "execution": {
     "iopub.execute_input": "2022-03-21T21:32:04.281801Z",
     "iopub.status.busy": "2022-03-21T21:32:04.280832Z",
     "iopub.status.idle": "2022-03-21T21:32:04.285176Z",
     "shell.execute_reply": "2022-03-21T21:32:04.284730Z",
     "shell.execute_reply.started": "2022-03-21T21:31:02.240365Z"
    },
    "papermill": {
     "duration": 0.058881,
     "end_time": "2022-03-21T21:32:04.285305",
     "exception": false,
     "start_time": "2022-03-21T21:32:04.226424",
     "status": "completed"
    },
    "tags": []
   },
   "outputs": [
    {
     "data": {
      "text/html": [
       "<div>\n",
       "<style scoped>\n",
       "    .dataframe tbody tr th:only-of-type {\n",
       "        vertical-align: middle;\n",
       "    }\n",
       "\n",
       "    .dataframe tbody tr th {\n",
       "        vertical-align: top;\n",
       "    }\n",
       "\n",
       "    .dataframe thead th {\n",
       "        text-align: right;\n",
       "    }\n",
       "</style>\n",
       "<table border=\"1\" class=\"dataframe\">\n",
       "  <thead>\n",
       "    <tr style=\"text-align: right;\">\n",
       "      <th></th>\n",
       "      <th>household_key</th>\n",
       "      <th>BASKET_ID</th>\n",
       "      <th>DAY</th>\n",
       "      <th>PRODUCT_ID</th>\n",
       "      <th>QUANTITY</th>\n",
       "      <th>SALES_VALUE</th>\n",
       "      <th>STORE_ID</th>\n",
       "      <th>RETAIL_DISC</th>\n",
       "      <th>TRANS_TIME</th>\n",
       "      <th>WEEK_NO</th>\n",
       "      <th>COUPON_DISC</th>\n",
       "      <th>COUPON_MATCH_DISC</th>\n",
       "    </tr>\n",
       "  </thead>\n",
       "  <tbody>\n",
       "    <tr>\n",
       "      <th>0</th>\n",
       "      <td>2375</td>\n",
       "      <td>26984851472</td>\n",
       "      <td>1</td>\n",
       "      <td>1004906</td>\n",
       "      <td>1</td>\n",
       "      <td>1.39</td>\n",
       "      <td>364</td>\n",
       "      <td>-0.60</td>\n",
       "      <td>1631</td>\n",
       "      <td>1</td>\n",
       "      <td>0.0</td>\n",
       "      <td>0.0</td>\n",
       "    </tr>\n",
       "    <tr>\n",
       "      <th>1</th>\n",
       "      <td>2375</td>\n",
       "      <td>26984851472</td>\n",
       "      <td>1</td>\n",
       "      <td>1033142</td>\n",
       "      <td>1</td>\n",
       "      <td>0.82</td>\n",
       "      <td>364</td>\n",
       "      <td>0.00</td>\n",
       "      <td>1631</td>\n",
       "      <td>1</td>\n",
       "      <td>0.0</td>\n",
       "      <td>0.0</td>\n",
       "    </tr>\n",
       "    <tr>\n",
       "      <th>2</th>\n",
       "      <td>2375</td>\n",
       "      <td>26984851472</td>\n",
       "      <td>1</td>\n",
       "      <td>1036325</td>\n",
       "      <td>1</td>\n",
       "      <td>0.99</td>\n",
       "      <td>364</td>\n",
       "      <td>-0.30</td>\n",
       "      <td>1631</td>\n",
       "      <td>1</td>\n",
       "      <td>0.0</td>\n",
       "      <td>0.0</td>\n",
       "    </tr>\n",
       "    <tr>\n",
       "      <th>3</th>\n",
       "      <td>2375</td>\n",
       "      <td>26984851472</td>\n",
       "      <td>1</td>\n",
       "      <td>1082185</td>\n",
       "      <td>1</td>\n",
       "      <td>1.21</td>\n",
       "      <td>364</td>\n",
       "      <td>0.00</td>\n",
       "      <td>1631</td>\n",
       "      <td>1</td>\n",
       "      <td>0.0</td>\n",
       "      <td>0.0</td>\n",
       "    </tr>\n",
       "    <tr>\n",
       "      <th>4</th>\n",
       "      <td>2375</td>\n",
       "      <td>26984851472</td>\n",
       "      <td>1</td>\n",
       "      <td>8160430</td>\n",
       "      <td>1</td>\n",
       "      <td>1.50</td>\n",
       "      <td>364</td>\n",
       "      <td>-0.39</td>\n",
       "      <td>1631</td>\n",
       "      <td>1</td>\n",
       "      <td>0.0</td>\n",
       "      <td>0.0</td>\n",
       "    </tr>\n",
       "  </tbody>\n",
       "</table>\n",
       "</div>"
      ],
      "text/plain": [
       "   household_key    BASKET_ID  DAY  PRODUCT_ID  QUANTITY  SALES_VALUE  \\\n",
       "0           2375  26984851472    1     1004906         1         1.39   \n",
       "1           2375  26984851472    1     1033142         1         0.82   \n",
       "2           2375  26984851472    1     1036325         1         0.99   \n",
       "3           2375  26984851472    1     1082185         1         1.21   \n",
       "4           2375  26984851472    1     8160430         1         1.50   \n",
       "\n",
       "   STORE_ID  RETAIL_DISC  TRANS_TIME  WEEK_NO  COUPON_DISC  COUPON_MATCH_DISC  \n",
       "0       364        -0.60        1631        1          0.0                0.0  \n",
       "1       364         0.00        1631        1          0.0                0.0  \n",
       "2       364        -0.30        1631        1          0.0                0.0  \n",
       "3       364         0.00        1631        1          0.0                0.0  \n",
       "4       364        -0.39        1631        1          0.0                0.0  "
      ]
     },
     "execution_count": 15,
     "metadata": {},
     "output_type": "execute_result"
    }
   ],
   "source": [
    "transaction_data.head()"
   ]
  },
  {
   "cell_type": "code",
   "execution_count": 16,
   "id": "431ff0e9",
   "metadata": {
    "execution": {
     "iopub.execute_input": "2022-03-21T21:32:04.381262Z",
     "iopub.status.busy": "2022-03-21T21:32:04.380307Z",
     "iopub.status.idle": "2022-03-21T21:32:04.513545Z",
     "shell.execute_reply": "2022-03-21T21:32:04.513987Z",
     "shell.execute_reply.started": "2022-03-21T21:31:02.256543Z"
    },
    "papermill": {
     "duration": 0.185817,
     "end_time": "2022-03-21T21:32:04.514143",
     "exception": false,
     "start_time": "2022-03-21T21:32:04.328326",
     "status": "completed"
    },
    "tags": []
   },
   "outputs": [
    {
     "data": {
      "text/html": [
       "<div>\n",
       "<style scoped>\n",
       "    .dataframe tbody tr th:only-of-type {\n",
       "        vertical-align: middle;\n",
       "    }\n",
       "\n",
       "    .dataframe tbody tr th {\n",
       "        vertical-align: top;\n",
       "    }\n",
       "\n",
       "    .dataframe thead th {\n",
       "        text-align: right;\n",
       "    }\n",
       "</style>\n",
       "<table border=\"1\" class=\"dataframe\">\n",
       "  <thead>\n",
       "    <tr style=\"text-align: right;\">\n",
       "      <th></th>\n",
       "      <th>BASKET_ID</th>\n",
       "      <th>SALES_VALUE</th>\n",
       "      <th>COUPON_DISC</th>\n",
       "      <th>COUPON_MATCH_DISC</th>\n",
       "      <th>Use_coupon</th>\n",
       "    </tr>\n",
       "  </thead>\n",
       "  <tbody>\n",
       "    <tr>\n",
       "      <th>0</th>\n",
       "      <td>26984851472</td>\n",
       "      <td>5.91</td>\n",
       "      <td>0.0</td>\n",
       "      <td>0.0</td>\n",
       "      <td>False</td>\n",
       "    </tr>\n",
       "    <tr>\n",
       "      <th>1</th>\n",
       "      <td>26984851516</td>\n",
       "      <td>12.43</td>\n",
       "      <td>0.0</td>\n",
       "      <td>0.0</td>\n",
       "      <td>False</td>\n",
       "    </tr>\n",
       "    <tr>\n",
       "      <th>2</th>\n",
       "      <td>26984896261</td>\n",
       "      <td>11.37</td>\n",
       "      <td>0.0</td>\n",
       "      <td>0.0</td>\n",
       "      <td>False</td>\n",
       "    </tr>\n",
       "    <tr>\n",
       "      <th>3</th>\n",
       "      <td>26984905972</td>\n",
       "      <td>2.55</td>\n",
       "      <td>0.0</td>\n",
       "      <td>0.0</td>\n",
       "      <td>False</td>\n",
       "    </tr>\n",
       "    <tr>\n",
       "      <th>4</th>\n",
       "      <td>26984945254</td>\n",
       "      <td>3.53</td>\n",
       "      <td>0.0</td>\n",
       "      <td>0.0</td>\n",
       "      <td>False</td>\n",
       "    </tr>\n",
       "  </tbody>\n",
       "</table>\n",
       "</div>"
      ],
      "text/plain": [
       "     BASKET_ID  SALES_VALUE  COUPON_DISC  COUPON_MATCH_DISC  Use_coupon\n",
       "0  26984851472         5.91          0.0                0.0       False\n",
       "1  26984851516        12.43          0.0                0.0       False\n",
       "2  26984896261        11.37          0.0                0.0       False\n",
       "3  26984905972         2.55          0.0                0.0       False\n",
       "4  26984945254         3.53          0.0                0.0       False"
      ]
     },
     "execution_count": 16,
     "metadata": {},
     "output_type": "execute_result"
    }
   ],
   "source": [
    "basket = transaction_data.groupby(['BASKET_ID'], as_index = False).agg(SALES_VALUE = ('SALES_VALUE', 'sum'),COUPON_DISC = ('COUPON_DISC', 'sum'),COUPON_MATCH_DISC = ('COUPON_MATCH_DISC', 'sum') )\n",
    "basket['Use_coupon'] = basket['COUPON_DISC'] != 0\n",
    "\n",
    "basket.head()"
   ]
  },
  {
   "cell_type": "code",
   "execution_count": 17,
   "id": "b67086e2",
   "metadata": {
    "execution": {
     "iopub.execute_input": "2022-03-21T21:32:04.608236Z",
     "iopub.status.busy": "2022-03-21T21:32:04.607056Z",
     "iopub.status.idle": "2022-03-21T21:32:04.612071Z",
     "shell.execute_reply": "2022-03-21T21:32:04.611554Z",
     "shell.execute_reply.started": "2022-03-21T21:31:02.378748Z"
    },
    "papermill": {
     "duration": 0.054461,
     "end_time": "2022-03-21T21:32:04.612202",
     "exception": false,
     "start_time": "2022-03-21T21:32:04.557741",
     "status": "completed"
    },
    "tags": []
   },
   "outputs": [
    {
     "name": "stdout",
     "output_type": "stream",
     "text": [
      "The average basket value is $29.14.\n"
     ]
    }
   ],
   "source": [
    "round(basket['SALES_VALUE'].mean(),2)\n",
    "print('The average basket value is $'+str(round(basket['SALES_VALUE'].mean(),2))+'.')"
   ]
  },
  {
   "cell_type": "code",
   "execution_count": 18,
   "id": "ce11e6ce",
   "metadata": {
    "execution": {
     "iopub.execute_input": "2022-03-21T21:32:04.714736Z",
     "iopub.status.busy": "2022-03-21T21:32:04.713735Z",
     "iopub.status.idle": "2022-03-21T21:32:04.980603Z",
     "shell.execute_reply": "2022-03-21T21:32:04.981046Z",
     "shell.execute_reply.started": "2022-03-21T21:31:02.386748Z"
    },
    "papermill": {
     "duration": 0.31994,
     "end_time": "2022-03-21T21:32:04.981209",
     "exception": false,
     "start_time": "2022-03-21T21:32:04.661269",
     "status": "completed"
    },
    "tags": []
   },
   "outputs": [
    {
     "data": {
      "text/plain": [
       "Text(0.5, 1.0, 'Basket value boxplot')"
      ]
     },
     "execution_count": 18,
     "metadata": {},
     "output_type": "execute_result"
    },
    {
     "data": {
      "image/png": "[encoded data removed]",
      "text/plain": [
       "<Figure size 2500x500 with 1 Axes>"
      ]
     },
     "metadata": {},
     "output_type": "display_data"
    }
   ],
   "source": [
    "plt.figure(figsize = (25,5))\n",
    "ax = sns.boxplot( basket['SALES_VALUE'])\n",
    "plt.title('Basket value boxplot', fontsize = 20)"
   ]
  },
  {
   "cell_type": "code",
   "execution_count": 19,
   "id": "6ee742e2",
   "metadata": {
    "execution": {
     "iopub.execute_input": "2022-03-21T21:32:05.083125Z",
     "iopub.status.busy": "2022-03-21T21:32:05.082484Z",
     "iopub.status.idle": "2022-03-21T21:32:05.109423Z",
     "shell.execute_reply": "2022-03-21T21:32:05.109865Z",
     "shell.execute_reply.started": "2022-03-21T21:31:02.636168Z"
    },
    "papermill": {
     "duration": 0.081385,
     "end_time": "2022-03-21T21:32:05.110031",
     "exception": false,
     "start_time": "2022-03-21T21:32:05.028646",
     "status": "completed"
    },
    "tags": []
   },
   "outputs": [
    {
     "data": {
      "text/html": [
       "<div>\n",
       "<style scoped>\n",
       "    .dataframe tbody tr th:only-of-type {\n",
       "        vertical-align: middle;\n",
       "    }\n",
       "\n",
       "    .dataframe tbody tr th {\n",
       "        vertical-align: top;\n",
       "    }\n",
       "\n",
       "    .dataframe thead th {\n",
       "        text-align: right;\n",
       "    }\n",
       "</style>\n",
       "<table border=\"1\" class=\"dataframe\">\n",
       "  <thead>\n",
       "    <tr style=\"text-align: right;\">\n",
       "      <th></th>\n",
       "      <th>Use_coupon</th>\n",
       "      <th>SALES_MEAN</th>\n",
       "      <th>COUPON_DISC_MEAN</th>\n",
       "      <th>COUPON_MATCH_DISC_MEAN</th>\n",
       "      <th>Nb_coupon</th>\n",
       "      <th>%_coupon</th>\n",
       "    </tr>\n",
       "  </thead>\n",
       "  <tbody>\n",
       "    <tr>\n",
       "      <th>0</th>\n",
       "      <td>False</td>\n",
       "      <td>26.664947</td>\n",
       "      <td>0.000000</td>\n",
       "      <td>0.00000</td>\n",
       "      <td>259733</td>\n",
       "      <td>93.94</td>\n",
       "    </tr>\n",
       "    <tr>\n",
       "      <th>1</th>\n",
       "      <td>True</td>\n",
       "      <td>67.559937</td>\n",
       "      <td>-2.543821</td>\n",
       "      <td>-0.45226</td>\n",
       "      <td>16751</td>\n",
       "      <td>6.06</td>\n",
       "    </tr>\n",
       "  </tbody>\n",
       "</table>\n",
       "</div>"
      ],
      "text/plain": [
       "   Use_coupon  SALES_MEAN  COUPON_DISC_MEAN  COUPON_MATCH_DISC_MEAN  \\\n",
       "0       False   26.664947          0.000000                 0.00000   \n",
       "1        True   67.559937         -2.543821                -0.45226   \n",
       "\n",
       "   Nb_coupon  %_coupon  \n",
       "0     259733     93.94  \n",
       "1      16751      6.06  "
      ]
     },
     "execution_count": 19,
     "metadata": {},
     "output_type": "execute_result"
    }
   ],
   "source": [
    "### panier moyen avec/sans coupon : \n",
    "Use_coupon = basket.groupby(['Use_coupon'], as_index = False).agg(SALES_MEAN = ('SALES_VALUE', 'mean')\n",
    "                                                     ,COUPON_DISC_MEAN = ('COUPON_DISC', 'mean')\n",
    "                                                     ,COUPON_MATCH_DISC_MEAN = ('COUPON_MATCH_DISC', 'mean')\n",
    "                                                     ,Nb_coupon = ('SALES_VALUE', 'count'))\n",
    "\n",
    "Use_coupon['%_coupon'] = round((Use_coupon['Nb_coupon']/(Use_coupon['Nb_coupon'].sum()))*100,2)\n",
    "Use_coupon"
   ]
  },
  {
   "cell_type": "markdown",
   "id": "e25b4d92",
   "metadata": {
    "papermill": {
     "duration": 0.045267,
     "end_time": "2022-03-21T21:32:05.203769",
     "exception": false,
     "start_time": "2022-03-21T21:32:05.158502",
     "status": "completed"
    },
    "tags": []
   },
   "source": [
    "The average basket value without a coupon is $26.7.\n",
    "\n",
    "The average basket value with a coupon is $67.6.\n",
    "\n",
    "The average discount generated by coupons is $2.5.\n",
    "\n",
    "A $1 coupon generates an additional basket value of $16."
   ]
  },
  {
   "cell_type": "code",
   "execution_count": 20,
   "id": "d1422be8",
   "metadata": {
    "execution": {
     "iopub.execute_input": "2022-03-21T21:32:05.300219Z",
     "iopub.status.busy": "2022-03-21T21:32:05.299443Z",
     "iopub.status.idle": "2022-03-21T21:32:05.350909Z",
     "shell.execute_reply": "2022-03-21T21:32:05.350409Z",
     "shell.execute_reply.started": "2022-03-21T21:31:02.671026Z"
    },
    "papermill": {
     "duration": 0.102057,
     "end_time": "2022-03-21T21:32:05.351033",
     "exception": false,
     "start_time": "2022-03-21T21:32:05.248976",
     "status": "completed"
    },
    "tags": []
   },
   "outputs": [
    {
     "data": {
      "text/html": [
       "<div>\n",
       "<style scoped>\n",
       "    .dataframe tbody tr th:only-of-type {\n",
       "        vertical-align: middle;\n",
       "    }\n",
       "\n",
       "    .dataframe tbody tr th {\n",
       "        vertical-align: top;\n",
       "    }\n",
       "\n",
       "    .dataframe thead th {\n",
       "        text-align: right;\n",
       "    }\n",
       "</style>\n",
       "<table border=\"1\" class=\"dataframe\">\n",
       "  <thead>\n",
       "    <tr style=\"text-align: right;\">\n",
       "      <th></th>\n",
       "      <th>cut</th>\n",
       "      <th>Use_coupon</th>\n",
       "      <th>nb_basket</th>\n",
       "      <th>%_use_coupon</th>\n",
       "    </tr>\n",
       "  </thead>\n",
       "  <tbody>\n",
       "    <tr>\n",
       "      <th>0</th>\n",
       "      <td>(-0.001, 6.96]</td>\n",
       "      <td>792</td>\n",
       "      <td>69170</td>\n",
       "      <td>1.15</td>\n",
       "    </tr>\n",
       "    <tr>\n",
       "      <th>1</th>\n",
       "      <td>(6.96, 17.07]</td>\n",
       "      <td>1971</td>\n",
       "      <td>69097</td>\n",
       "      <td>2.85</td>\n",
       "    </tr>\n",
       "    <tr>\n",
       "      <th>2</th>\n",
       "      <td>(17.07, 36.28]</td>\n",
       "      <td>3297</td>\n",
       "      <td>69111</td>\n",
       "      <td>4.77</td>\n",
       "    </tr>\n",
       "    <tr>\n",
       "      <th>3</th>\n",
       "      <td>(36.28, 961.49]</td>\n",
       "      <td>10691</td>\n",
       "      <td>69106</td>\n",
       "      <td>15.47</td>\n",
       "    </tr>\n",
       "  </tbody>\n",
       "</table>\n",
       "</div>"
      ],
      "text/plain": [
       "               cut  Use_coupon  nb_basket  %_use_coupon\n",
       "0   (-0.001, 6.96]         792      69170          1.15\n",
       "1    (6.96, 17.07]        1971      69097          2.85\n",
       "2   (17.07, 36.28]        3297      69111          4.77\n",
       "3  (36.28, 961.49]       10691      69106         15.47"
      ]
     },
     "execution_count": 20,
     "metadata": {},
     "output_type": "execute_result"
    }
   ],
   "source": [
    "basket['cut'] = pd.qcut(basket['SALES_VALUE'], 4)\n",
    "\n",
    "basket_cut = basket.groupby(['cut'], as_index = False).agg(Use_coupon = ('Use_coupon', 'sum'), nb_basket = ('SALES_VALUE', 'count'))\n",
    "\n",
    "basket_cut['%_use_coupon'] = round((basket_cut['Use_coupon']/basket_cut['nb_basket'])*100,2)\n",
    "basket_cut"
   ]
  },
  {
   "cell_type": "markdown",
   "id": "0939664d",
   "metadata": {
    "papermill": {
     "duration": 0.045538,
     "end_time": "2022-03-21T21:32:05.443294",
     "exception": false,
     "start_time": "2022-03-21T21:32:05.397756",
     "status": "completed"
    },
    "tags": []
   },
   "source": [
    "The more expensive the basket, the likelier the customer is to use a coupon."
   ]
  },
  {
   "cell_type": "code",
   "execution_count": 21,
   "id": "a5dec2f6",
   "metadata": {
    "execution": {
     "iopub.execute_input": "2022-03-21T21:32:05.541182Z",
     "iopub.status.busy": "2022-03-21T21:32:05.540272Z",
     "iopub.status.idle": "2022-03-21T21:32:05.563926Z",
     "shell.execute_reply": "2022-03-21T21:32:05.563490Z",
     "shell.execute_reply.started": "2022-03-21T21:31:02.726774Z"
    },
    "papermill": {
     "duration": 0.07499,
     "end_time": "2022-03-21T21:32:05.564047",
     "exception": false,
     "start_time": "2022-03-21T21:32:05.489057",
     "status": "completed"
    },
    "tags": []
   },
   "outputs": [
    {
     "data": {
      "text/html": [
       "<div>\n",
       "<style scoped>\n",
       "    .dataframe tbody tr th:only-of-type {\n",
       "        vertical-align: middle;\n",
       "    }\n",
       "\n",
       "    .dataframe tbody tr th {\n",
       "        vertical-align: top;\n",
       "    }\n",
       "\n",
       "    .dataframe thead th {\n",
       "        text-align: right;\n",
       "    }\n",
       "</style>\n",
       "<table border=\"1\" class=\"dataframe\">\n",
       "  <thead>\n",
       "    <tr style=\"text-align: right;\">\n",
       "      <th></th>\n",
       "      <th>cut</th>\n",
       "      <th>SALES_VALUE</th>\n",
       "      <th>coupon_value</th>\n",
       "      <th>nb_coupon</th>\n",
       "      <th>%_disc</th>\n",
       "      <th>%_nb_coupon</th>\n",
       "    </tr>\n",
       "  </thead>\n",
       "  <tbody>\n",
       "    <tr>\n",
       "      <th>0</th>\n",
       "      <td>(-0.001, 6.96]</td>\n",
       "      <td>4.008624</td>\n",
       "      <td>-1.203737</td>\n",
       "      <td>792</td>\n",
       "      <td>-30.03</td>\n",
       "      <td>4.73</td>\n",
       "    </tr>\n",
       "    <tr>\n",
       "      <th>1</th>\n",
       "      <td>(6.96, 17.07]</td>\n",
       "      <td>12.127220</td>\n",
       "      <td>-1.677900</td>\n",
       "      <td>1971</td>\n",
       "      <td>-13.84</td>\n",
       "      <td>11.77</td>\n",
       "    </tr>\n",
       "    <tr>\n",
       "      <th>2</th>\n",
       "      <td>(17.07, 36.28]</td>\n",
       "      <td>26.400834</td>\n",
       "      <td>-1.930355</td>\n",
       "      <td>3297</td>\n",
       "      <td>-7.31</td>\n",
       "      <td>19.68</td>\n",
       "    </tr>\n",
       "    <tr>\n",
       "      <th>3</th>\n",
       "      <td>(36.28, 961.49]</td>\n",
       "      <td>95.180560</td>\n",
       "      <td>-2.991924</td>\n",
       "      <td>10691</td>\n",
       "      <td>-3.14</td>\n",
       "      <td>63.82</td>\n",
       "    </tr>\n",
       "  </tbody>\n",
       "</table>\n",
       "</div>"
      ],
      "text/plain": [
       "               cut  SALES_VALUE  coupon_value  nb_coupon  %_disc  %_nb_coupon\n",
       "0   (-0.001, 6.96]     4.008624     -1.203737        792  -30.03         4.73\n",
       "1    (6.96, 17.07]    12.127220     -1.677900       1971  -13.84        11.77\n",
       "2   (17.07, 36.28]    26.400834     -1.930355       3297   -7.31        19.68\n",
       "3  (36.28, 961.49]    95.180560     -2.991924      10691   -3.14        63.82"
      ]
     },
     "execution_count": 21,
     "metadata": {},
     "output_type": "execute_result"
    }
   ],
   "source": [
    "basket_coupon = basket[basket['Use_coupon']==True]\n",
    "\n",
    "coupon_cut = basket_coupon.groupby(['cut'], as_index = False).agg(SALES_VALUE = ('SALES_VALUE', 'mean'), \n",
    "                                                                  coupon_value = ('COUPON_DISC', 'mean'), \n",
    "                                                                  nb_coupon = ('COUPON_DISC', 'count'))\n",
    "\n",
    "sum_nb_coupon = coupon_cut['nb_coupon'].sum()\n",
    "\n",
    "coupon_cut['%_disc'] = round(((coupon_cut['coupon_value']/coupon_cut['SALES_VALUE'])*100),2)\n",
    "coupon_cut['%_nb_coupon'] = round(((coupon_cut['nb_coupon']/sum_nb_coupon)*100),2)\n",
    "\n",
    "coupon_cut"
   ]
  },
  {
   "cell_type": "markdown",
   "id": "781ba74a",
   "metadata": {
    "papermill": {
     "duration": 0.052317,
     "end_time": "2022-03-21T21:32:05.664555",
     "exception": false,
     "start_time": "2022-03-21T21:32:05.612238",
     "status": "completed"
    },
    "tags": []
   },
   "source": [
    "Among baskets with coupons, the most prominent are the high value ones."
   ]
  },
  {
   "cell_type": "code",
   "execution_count": 22,
   "id": "22cf56f7",
   "metadata": {
    "execution": {
     "iopub.execute_input": "2022-03-21T21:32:05.774489Z",
     "iopub.status.busy": "2022-03-21T21:32:05.773661Z",
     "iopub.status.idle": "2022-03-21T21:32:07.004902Z",
     "shell.execute_reply": "2022-03-21T21:32:07.004318Z",
     "shell.execute_reply.started": "2022-03-21T21:31:02.754251Z"
    },
    "papermill": {
     "duration": 1.288413,
     "end_time": "2022-03-21T21:32:07.005051",
     "exception": false,
     "start_time": "2022-03-21T21:32:05.716638",
     "status": "completed"
    },
    "tags": []
   },
   "outputs": [],
   "source": [
    "transaction_bis = transaction_data.merge(right = basket[['BASKET_ID','Use_coupon']], on = 'BASKET_ID', how = 'left') \n",
    "transaction_bis['product_value'] = transaction_bis['SALES_VALUE']/transaction_bis['QUANTITY']\n",
    "transaction_bis =  transaction_bis.merge(right = product, on = 'PRODUCT_ID', how = 'left') "
   ]
  },
  {
   "cell_type": "code",
   "execution_count": 23,
   "id": "d3d3d0cb",
   "metadata": {
    "execution": {
     "iopub.execute_input": "2022-03-21T21:32:07.110439Z",
     "iopub.status.busy": "2022-03-21T21:32:07.109798Z",
     "iopub.status.idle": "2022-03-21T21:32:07.372376Z",
     "shell.execute_reply": "2022-03-21T21:32:07.371907Z",
     "shell.execute_reply.started": "2022-03-21T21:31:03.893373Z"
    },
    "papermill": {
     "duration": 0.319578,
     "end_time": "2022-03-21T21:32:07.372513",
     "exception": false,
     "start_time": "2022-03-21T21:32:07.052935",
     "status": "completed"
    },
    "tags": []
   },
   "outputs": [
    {
     "data": {
      "text/html": [
       "<div>\n",
       "<style scoped>\n",
       "    .dataframe tbody tr th:only-of-type {\n",
       "        vertical-align: middle;\n",
       "    }\n",
       "\n",
       "    .dataframe tbody tr th {\n",
       "        vertical-align: top;\n",
       "    }\n",
       "\n",
       "    .dataframe thead th {\n",
       "        text-align: right;\n",
       "    }\n",
       "</style>\n",
       "<table border=\"1\" class=\"dataframe\">\n",
       "  <thead>\n",
       "    <tr style=\"text-align: right;\">\n",
       "      <th></th>\n",
       "      <th>COMMODITY_DESC</th>\n",
       "      <th>Qt_total</th>\n",
       "      <th>Use_coupon</th>\n",
       "      <th>COUPON</th>\n",
       "      <th>%_Coupon</th>\n",
       "    </tr>\n",
       "  </thead>\n",
       "  <tbody>\n",
       "    <tr>\n",
       "      <th>0</th>\n",
       "      <td></td>\n",
       "      <td>7839</td>\n",
       "      <td>6198</td>\n",
       "      <td>-10306.04</td>\n",
       "      <td>79.07</td>\n",
       "    </tr>\n",
       "    <tr>\n",
       "      <th>273</th>\n",
       "      <td>SOFT DRINKS</td>\n",
       "      <td>117532</td>\n",
       "      <td>13685</td>\n",
       "      <td>-3653.98</td>\n",
       "      <td>11.64</td>\n",
       "    </tr>\n",
       "    <tr>\n",
       "      <th>58</th>\n",
       "      <td>CIGARETTES</td>\n",
       "      <td>12319</td>\n",
       "      <td>1060</td>\n",
       "      <td>-1454.67</td>\n",
       "      <td>8.60</td>\n",
       "    </tr>\n",
       "    <tr>\n",
       "      <th>85</th>\n",
       "      <td>DIAPERS &amp; DISPOSABLES</td>\n",
       "      <td>5008</td>\n",
       "      <td>1226</td>\n",
       "      <td>-1021.82</td>\n",
       "      <td>24.48</td>\n",
       "    </tr>\n",
       "    <tr>\n",
       "      <th>3</th>\n",
       "      <td>AIR CARE</td>\n",
       "      <td>5556</td>\n",
       "      <td>1364</td>\n",
       "      <td>-910.04</td>\n",
       "      <td>24.55</td>\n",
       "    </tr>\n",
       "    <tr>\n",
       "      <th>67</th>\n",
       "      <td>COLD CEREAL</td>\n",
       "      <td>37870</td>\n",
       "      <td>6466</td>\n",
       "      <td>-848.28</td>\n",
       "      <td>17.07</td>\n",
       "    </tr>\n",
       "    <tr>\n",
       "      <th>243</th>\n",
       "      <td>REFRGRATD DOUGH PRODUCTS</td>\n",
       "      <td>18960</td>\n",
       "      <td>4202</td>\n",
       "      <td>-821.73</td>\n",
       "      <td>22.16</td>\n",
       "    </tr>\n",
       "    <tr>\n",
       "      <th>140</th>\n",
       "      <td>FRZN MEAT/MEAT DINNERS</td>\n",
       "      <td>56064</td>\n",
       "      <td>10222</td>\n",
       "      <td>-790.54</td>\n",
       "      <td>18.23</td>\n",
       "    </tr>\n",
       "    <tr>\n",
       "      <th>134</th>\n",
       "      <td>FROZEN PIZZA</td>\n",
       "      <td>43362</td>\n",
       "      <td>7394</td>\n",
       "      <td>-783.84</td>\n",
       "      <td>17.05</td>\n",
       "    </tr>\n",
       "    <tr>\n",
       "      <th>91</th>\n",
       "      <td>DOG FOODS</td>\n",
       "      <td>12093</td>\n",
       "      <td>2437</td>\n",
       "      <td>-732.33</td>\n",
       "      <td>20.15</td>\n",
       "    </tr>\n",
       "    <tr>\n",
       "      <th>22</th>\n",
       "      <td>BATH TISSUES</td>\n",
       "      <td>14051</td>\n",
       "      <td>2542</td>\n",
       "      <td>-708.55</td>\n",
       "      <td>18.09</td>\n",
       "    </tr>\n",
       "  </tbody>\n",
       "</table>\n",
       "</div>"
      ],
      "text/plain": [
       "               COMMODITY_DESC  Qt_total  Use_coupon    COUPON  %_Coupon\n",
       "0                                  7839        6198 -10306.04     79.07\n",
       "273               SOFT DRINKS    117532       13685  -3653.98     11.64\n",
       "58                 CIGARETTES     12319        1060  -1454.67      8.60\n",
       "85      DIAPERS & DISPOSABLES      5008        1226  -1021.82     24.48\n",
       "3                    AIR CARE      5556        1364   -910.04     24.55\n",
       "67                COLD CEREAL     37870        6466   -848.28     17.07\n",
       "243  REFRGRATD DOUGH PRODUCTS     18960        4202   -821.73     22.16\n",
       "140    FRZN MEAT/MEAT DINNERS     56064       10222   -790.54     18.23\n",
       "134              FROZEN PIZZA     43362        7394   -783.84     17.05\n",
       "91                  DOG FOODS     12093        2437   -732.33     20.15\n",
       "22               BATH TISSUES     14051        2542   -708.55     18.09"
      ]
     },
     "execution_count": 23,
     "metadata": {},
     "output_type": "execute_result"
    }
   ],
   "source": [
    "COMMODITY_coupon = transaction_bis.groupby(['COMMODITY_DESC'], as_index = False).agg(Qt_total= ('QUANTITY', 'count'),Use_coupon = ('Use_coupon', 'sum'), COUPON = ('COUPON_DISC', 'sum'))\n",
    "COMMODITY_coupon['%_Coupon'] = round(((COMMODITY_coupon['Use_coupon']/COMMODITY_coupon['Qt_total'])*100),2)\n",
    "COMMODITY_coupon = COMMODITY_coupon.sort_values('COUPON', ascending = True)\n",
    "COMMODITY_coupon.head(11)"
   ]
  },
  {
   "cell_type": "markdown",
   "id": "517a6e7b",
   "metadata": {
    "papermill": {
     "duration": 0.046698,
     "end_time": "2022-03-21T21:32:07.469374",
     "exception": false,
     "start_time": "2022-03-21T21:32:07.422676",
     "status": "completed"
    },
    "tags": []
   },
   "source": [
    "While the most prominents products for which coupons are created are haircare and makeup products, coupons are mostly used on drinks, cigarettes, diapers, etc. Bathroom products are not even among the top 10"
   ]
  },
  {
   "cell_type": "code",
   "execution_count": 24,
   "id": "73f870cb",
   "metadata": {
    "execution": {
     "iopub.execute_input": "2022-03-21T21:32:07.570643Z",
     "iopub.status.busy": "2022-03-21T21:32:07.569721Z",
     "iopub.status.idle": "2022-03-21T21:32:07.884778Z",
     "shell.execute_reply": "2022-03-21T21:32:07.884258Z",
     "shell.execute_reply.started": "2022-03-21T21:31:04.196423Z"
    },
    "papermill": {
     "duration": 0.368289,
     "end_time": "2022-03-21T21:32:07.884929",
     "exception": false,
     "start_time": "2022-03-21T21:32:07.516640",
     "status": "completed"
    },
    "tags": []
   },
   "outputs": [],
   "source": [
    "## group transaction_data table by 'household_key', 'week_no' and ('day')\n",
    "hh_week = transaction_data.groupby(['household_key','WEEK_NO','DAY'], as_index = False).agg(SALES_VALUE = ('SALES_VALUE', 'sum'),RETAIL_DISC = ('RETAIL_DISC', 'sum'),COUPON_DISC = ('COUPON_DISC', 'sum'),COUPON_nb = ('COUPON_DISC', 'count') )"
   ]
  },
  {
   "cell_type": "code",
   "execution_count": 25,
   "id": "1c803c12",
   "metadata": {
    "execution": {
     "iopub.execute_input": "2022-03-21T21:32:07.989384Z",
     "iopub.status.busy": "2022-03-21T21:32:07.988600Z",
     "iopub.status.idle": "2022-03-21T21:32:08.026311Z",
     "shell.execute_reply": "2022-03-21T21:32:08.026726Z",
     "shell.execute_reply.started": "2022-03-21T21:31:04.585765Z"
    },
    "papermill": {
     "duration": 0.094706,
     "end_time": "2022-03-21T21:32:08.026865",
     "exception": false,
     "start_time": "2022-03-21T21:32:07.932159",
     "status": "completed"
    },
    "tags": []
   },
   "outputs": [
    {
     "data": {
      "text/html": [
       "<div>\n",
       "<style scoped>\n",
       "    .dataframe tbody tr th:only-of-type {\n",
       "        vertical-align: middle;\n",
       "    }\n",
       "\n",
       "    .dataframe tbody tr th {\n",
       "        vertical-align: top;\n",
       "    }\n",
       "\n",
       "    .dataframe thead th {\n",
       "        text-align: right;\n",
       "    }\n",
       "</style>\n",
       "<table border=\"1\" class=\"dataframe\">\n",
       "  <thead>\n",
       "    <tr style=\"text-align: right;\">\n",
       "      <th></th>\n",
       "      <th>WEEK_NO</th>\n",
       "      <th>nb_hh</th>\n",
       "      <th>SALES_VALUE</th>\n",
       "      <th>RETAIL_DISC</th>\n",
       "      <th>COUPON_DISC</th>\n",
       "      <th>COUPON_nb</th>\n",
       "      <th>SALES_per_HH</th>\n",
       "      <th>RDisc_per_HH</th>\n",
       "      <th>CDisc_per_HH</th>\n",
       "    </tr>\n",
       "  </thead>\n",
       "  <tbody>\n",
       "    <tr>\n",
       "      <th>0</th>\n",
       "      <td>1</td>\n",
       "      <td>88</td>\n",
       "      <td>5211.16</td>\n",
       "      <td>-1037.25</td>\n",
       "      <td>-16.74</td>\n",
       "      <td>1881</td>\n",
       "      <td>59.22</td>\n",
       "      <td>11.79</td>\n",
       "      <td>0.19</td>\n",
       "    </tr>\n",
       "    <tr>\n",
       "      <th>1</th>\n",
       "      <td>2</td>\n",
       "      <td>175</td>\n",
       "      <td>10821.35</td>\n",
       "      <td>-2147.61</td>\n",
       "      <td>-21.58</td>\n",
       "      <td>3675</td>\n",
       "      <td>61.84</td>\n",
       "      <td>12.27</td>\n",
       "      <td>0.12</td>\n",
       "    </tr>\n",
       "    <tr>\n",
       "      <th>2</th>\n",
       "      <td>3</td>\n",
       "      <td>228</td>\n",
       "      <td>13498.20</td>\n",
       "      <td>-2548.16</td>\n",
       "      <td>-78.62</td>\n",
       "      <td>4803</td>\n",
       "      <td>59.20</td>\n",
       "      <td>11.18</td>\n",
       "      <td>0.34</td>\n",
       "    </tr>\n",
       "    <tr>\n",
       "      <th>3</th>\n",
       "      <td>4</td>\n",
       "      <td>270</td>\n",
       "      <td>15965.99</td>\n",
       "      <td>-2883.95</td>\n",
       "      <td>-77.99</td>\n",
       "      <td>5379</td>\n",
       "      <td>59.13</td>\n",
       "      <td>10.68</td>\n",
       "      <td>0.29</td>\n",
       "    </tr>\n",
       "    <tr>\n",
       "      <th>4</th>\n",
       "      <td>5</td>\n",
       "      <td>370</td>\n",
       "      <td>20139.82</td>\n",
       "      <td>-3962.06</td>\n",
       "      <td>-83.36</td>\n",
       "      <td>7168</td>\n",
       "      <td>54.43</td>\n",
       "      <td>10.71</td>\n",
       "      <td>0.23</td>\n",
       "    </tr>\n",
       "  </tbody>\n",
       "</table>\n",
       "</div>"
      ],
      "text/plain": [
       "   WEEK_NO  nb_hh  SALES_VALUE  RETAIL_DISC  COUPON_DISC  COUPON_nb  \\\n",
       "0        1     88      5211.16     -1037.25       -16.74       1881   \n",
       "1        2    175     10821.35     -2147.61       -21.58       3675   \n",
       "2        3    228     13498.20     -2548.16       -78.62       4803   \n",
       "3        4    270     15965.99     -2883.95       -77.99       5379   \n",
       "4        5    370     20139.82     -3962.06       -83.36       7168   \n",
       "\n",
       "   SALES_per_HH  RDisc_per_HH  CDisc_per_HH  \n",
       "0         59.22         11.79          0.19  \n",
       "1         61.84         12.27          0.12  \n",
       "2         59.20         11.18          0.34  \n",
       "3         59.13         10.68          0.29  \n",
       "4         54.43         10.71          0.23  "
      ]
     },
     "execution_count": 25,
     "metadata": {},
     "output_type": "execute_result"
    }
   ],
   "source": [
    "hh_Per_week = hh_week.groupby(['WEEK_NO'], as_index = False).agg(nb_hh = ('household_key', 'nunique'), \n",
    "                                                                 SALES_VALUE = ('SALES_VALUE', 'sum'),\n",
    "                                                                 RETAIL_DISC = ('RETAIL_DISC', 'sum'), \n",
    "                                                                 COUPON_DISC = ('COUPON_DISC', 'sum'),\n",
    "                                                                 COUPON_nb = ('COUPON_nb', 'sum'))\n",
    "\n",
    "hh_Per_week['SALES_per_HH'] = round(hh_Per_week['SALES_VALUE']/hh_Per_week['nb_hh'],2)\n",
    "hh_Per_week['RDisc_per_HH'] = -(round(hh_Per_week['RETAIL_DISC']/hh_Per_week['nb_hh'],2))\n",
    "hh_Per_week['CDisc_per_HH'] = -(round(hh_Per_week['COUPON_DISC']/hh_Per_week['nb_hh'],2))\n",
    "hh_Per_week.head()"
   ]
  },
  {
   "cell_type": "code",
   "execution_count": 26,
   "id": "fada8dcc",
   "metadata": {
    "execution": {
     "iopub.execute_input": "2022-03-21T21:32:08.128642Z",
     "iopub.status.busy": "2022-03-21T21:32:08.127711Z",
     "iopub.status.idle": "2022-03-21T21:32:09.868248Z",
     "shell.execute_reply": "2022-03-21T21:32:09.867418Z",
     "shell.execute_reply.started": "2022-03-21T21:31:04.653117Z"
    },
    "papermill": {
     "duration": 1.793673,
     "end_time": "2022-03-21T21:32:09.868445",
     "exception": false,
     "start_time": "2022-03-21T21:32:08.074772",
     "status": "completed"
    },
    "tags": []
   },
   "outputs": [
    {
     "name": "stderr",
     "output_type": "stream",
     "text": [
      "No artists with labels found to put in legend.  Note that artists whose label start with an underscore are ignored when legend() is called with no argument.\n"
     ]
    },
    {
     "data": {
      "text/plain": [
       "<matplotlib.legend.Legend at 0x17a23469c10>"
      ]
     },
     "execution_count": 26,
     "metadata": {},
     "output_type": "execute_result"
    },
    {
     "data": {
      "image/png": "[encoded data removed]",
      "text/plain": [
       "<Figure size 2500x500 with 1 Axes>"
      ]
     },
     "metadata": {},
     "output_type": "display_data"
    }
   ],
   "source": [
    "plt.figure(figsize = (25,5))\n",
    "sns.barplot(x='WEEK_NO', y = 'nb_hh', data = hh_Per_week)\n",
    "plt.title('nb household per week', fontsize = 20)\n",
    "plt.legend()"
   ]
  },
  {
   "cell_type": "code",
   "execution_count": 27,
   "id": "fda19b2c",
   "metadata": {
    "execution": {
     "iopub.execute_input": "2022-03-21T21:32:10.035924Z",
     "iopub.status.busy": "2022-03-21T21:32:10.035116Z",
     "iopub.status.idle": "2022-03-21T21:32:10.787021Z",
     "shell.execute_reply": "2022-03-21T21:32:10.786523Z",
     "shell.execute_reply.started": "2022-03-21T21:31:06.321767Z"
    },
    "papermill": {
     "duration": 0.838598,
     "end_time": "2022-03-21T21:32:10.787155",
     "exception": false,
     "start_time": "2022-03-21T21:32:09.948557",
     "status": "completed"
    },
    "tags": []
   },
   "outputs": [
    {
     "data": {
      "image/png": "[encoded data removed]",
      "text/plain": [
       "<Figure size 2500x500 with 1 Axes>"
      ]
     },
     "metadata": {},
     "output_type": "display_data"
    }
   ],
   "source": [
    "plt.figure(figsize = (25,5))\n",
    "\n",
    "plt.title(\"Sales/retail discount per week per Household\")\n",
    "plt.bar(hh_Per_week['WEEK_NO'], hh_Per_week['SALES_per_HH'], label = \"SALES_per_HH\")\n",
    "plt.bar(hh_Per_week['WEEK_NO'], hh_Per_week['RDisc_per_HH'] ,label = 'RDisc_per_HH')\n",
    "plt.xlabel(\"Sales & Retail Discount\")\n",
    "plt.ylabel(\"montant\")\n",
    "plt.legend();"
   ]
  },
  {
   "cell_type": "code",
   "execution_count": 28,
   "id": "f62785dd",
   "metadata": {
    "execution": {
     "iopub.execute_input": "2022-03-21T21:32:10.895088Z",
     "iopub.status.busy": "2022-03-21T21:32:10.894269Z",
     "iopub.status.idle": "2022-03-21T21:32:10.911563Z",
     "shell.execute_reply": "2022-03-21T21:32:10.912253Z",
     "shell.execute_reply.started": "2022-03-21T21:31:07.076267Z"
    },
    "papermill": {
     "duration": 0.075027,
     "end_time": "2022-03-21T21:32:10.912444",
     "exception": false,
     "start_time": "2022-03-21T21:32:10.837417",
     "status": "completed"
    },
    "tags": []
   },
   "outputs": [
    {
     "name": "stdout",
     "output_type": "stream",
     "text": [
      "Thhe average days that the household do their shooping is 15.5 days. The median is 9.0 days.\n"
     ]
    }
   ],
   "source": [
    "hh_frequency = hh_week.groupby('household_key').agg(DAY_max = ('DAY','max'),DAY_min = ('DAY','min'),DAY_count = ('DAY','count'))\n",
    "\n",
    "hh_frequency['frequency'] = round((hh_frequency['DAY_max']- hh_frequency['DAY_min'])/hh_frequency['DAY_count'],1)\n",
    "print('Thhe average days that the household do their shooping is '+str(round(hh_frequency['frequency'].mean(),1))+' days. The median is '+ str(round(hh_frequency['frequency'].median(),1)) + ' days.')"
   ]
  },
  {
   "cell_type": "code",
   "execution_count": 29,
   "id": "79294d93",
   "metadata": {
    "execution": {
     "iopub.execute_input": "2022-03-21T21:32:11.055418Z",
     "iopub.status.busy": "2022-03-21T21:32:11.033133Z",
     "iopub.status.idle": "2022-03-21T21:32:11.287458Z",
     "shell.execute_reply": "2022-03-21T21:32:11.288535Z",
     "shell.execute_reply.started": "2022-03-21T21:31:07.099326Z"
    },
    "papermill": {
     "duration": 0.324745,
     "end_time": "2022-03-21T21:32:11.288783",
     "exception": false,
     "start_time": "2022-03-21T21:32:10.964038",
     "status": "completed"
    },
    "tags": []
   },
   "outputs": [
    {
     "data": {
      "text/plain": [
       "Text(0.5, 1.0, 'Household shopping frequency')"
      ]
     },
     "execution_count": 29,
     "metadata": {},
     "output_type": "execute_result"
    },
    {
     "data": {
      "image/png": "[encoded data removed]",
      "text/plain": [
       "<Figure size 2500x500 with 1 Axes>"
      ]
     },
     "metadata": {},
     "output_type": "display_data"
    }
   ],
   "source": [
    "plt.figure(figsize = (25,5))\n",
    "plt.xticks(np.arange(0, 300, step=10))\n",
    "ax = sns.boxplot(hh_frequency['frequency'])\n",
    "plt.title('Household shopping frequency', fontsize = 20)"
   ]
  },
  {
   "cell_type": "markdown",
   "id": "70b6aaee",
   "metadata": {
    "papermill": {
     "duration": 0.051015,
     "end_time": "2022-03-21T21:32:11.399472",
     "exception": false,
     "start_time": "2022-03-21T21:32:11.348457",
     "status": "completed"
    },
    "tags": []
   },
   "source": [
    "As on average shopping sessions are more than two weeks appart, we will be using a 3-week-long time unit for the next analyisis."
   ]
  },
  {
   "cell_type": "code",
   "execution_count": 30,
   "id": "0ce7ed36",
   "metadata": {
    "execution": {
     "iopub.execute_input": "2022-03-21T21:32:11.511529Z",
     "iopub.status.busy": "2022-03-21T21:32:11.510746Z",
     "iopub.status.idle": "2022-03-21T21:32:11.724698Z",
     "shell.execute_reply": "2022-03-21T21:32:11.725129Z",
     "shell.execute_reply.started": "2022-03-21T21:31:07.368697Z"
    },
    "papermill": {
     "duration": 0.275108,
     "end_time": "2022-03-21T21:32:11.725291",
     "exception": false,
     "start_time": "2022-03-21T21:32:11.450183",
     "status": "completed"
    },
    "tags": []
   },
   "outputs": [
    {
     "data": {
      "text/html": [
       "<div>\n",
       "<style scoped>\n",
       "    .dataframe tbody tr th:only-of-type {\n",
       "        vertical-align: middle;\n",
       "    }\n",
       "\n",
       "    .dataframe tbody tr th {\n",
       "        vertical-align: top;\n",
       "    }\n",
       "\n",
       "    .dataframe thead th {\n",
       "        text-align: right;\n",
       "    }\n",
       "</style>\n",
       "<table border=\"1\" class=\"dataframe\">\n",
       "  <thead>\n",
       "    <tr style=\"text-align: right;\">\n",
       "      <th></th>\n",
       "      <th>household_key</th>\n",
       "      <th>weekBy3</th>\n",
       "      <th>SALES_VALUE</th>\n",
       "      <th>RETAIL_DISC</th>\n",
       "      <th>COUPON_DISC</th>\n",
       "      <th>frist_week</th>\n",
       "    </tr>\n",
       "  </thead>\n",
       "  <tbody>\n",
       "    <tr>\n",
       "      <th>0</th>\n",
       "      <td>1</td>\n",
       "      <td>3</td>\n",
       "      <td>78.66</td>\n",
       "      <td>-16.54</td>\n",
       "      <td>-1.00</td>\n",
       "      <td>3</td>\n",
       "    </tr>\n",
       "    <tr>\n",
       "      <th>1</th>\n",
       "      <td>1</td>\n",
       "      <td>4</td>\n",
       "      <td>41.10</td>\n",
       "      <td>-8.59</td>\n",
       "      <td>0.00</td>\n",
       "      <td>3</td>\n",
       "    </tr>\n",
       "    <tr>\n",
       "      <th>2</th>\n",
       "      <td>1</td>\n",
       "      <td>5</td>\n",
       "      <td>143.78</td>\n",
       "      <td>-34.22</td>\n",
       "      <td>-1.50</td>\n",
       "      <td>3</td>\n",
       "    </tr>\n",
       "    <tr>\n",
       "      <th>3</th>\n",
       "      <td>1</td>\n",
       "      <td>6</td>\n",
       "      <td>50.31</td>\n",
       "      <td>-11.21</td>\n",
       "      <td>0.00</td>\n",
       "      <td>3</td>\n",
       "    </tr>\n",
       "    <tr>\n",
       "      <th>4</th>\n",
       "      <td>1</td>\n",
       "      <td>7</td>\n",
       "      <td>197.78</td>\n",
       "      <td>-26.82</td>\n",
       "      <td>-2.25</td>\n",
       "      <td>3</td>\n",
       "    </tr>\n",
       "  </tbody>\n",
       "</table>\n",
       "</div>"
      ],
      "text/plain": [
       "   household_key  weekBy3  SALES_VALUE  RETAIL_DISC  COUPON_DISC  frist_week\n",
       "0              1        3        78.66       -16.54        -1.00           3\n",
       "1              1        4        41.10        -8.59         0.00           3\n",
       "2              1        5       143.78       -34.22        -1.50           3\n",
       "3              1        6        50.31       -11.21         0.00           3\n",
       "4              1        7       197.78       -26.82        -2.25           3"
      ]
     },
     "execution_count": 30,
     "metadata": {},
     "output_type": "execute_result"
    }
   ],
   "source": [
    "### on décide si un household n'est pas active pendant 3 semaines\n",
    "\n",
    "hh_week['weekBy3'] = hh_week['WEEK_NO'].apply(lambda x : math.ceil(x/3))\n",
    "\n",
    "hh_3week = hh_week.groupby(['household_key','weekBy3'], as_index = False).agg(SALES_VALUE = ('SALES_VALUE', 'sum'),RETAIL_DISC = ('RETAIL_DISC', 'sum'),COUPON_DISC = ('COUPON_DISC', 'sum') )\n",
    "\n",
    "frist_week = hh_3week.groupby('household_key', as_index = False).agg(frist_week = ('weekBy3', 'min'))\n",
    "hh_3week = hh_3week.merge(frist_week, on = 'household_key', how = 'left')\n",
    "\n",
    "hh_3week.head()"
   ]
  },
  {
   "cell_type": "code",
   "execution_count": 31,
   "id": "49104de6",
   "metadata": {
    "execution": {
     "iopub.execute_input": "2022-03-21T21:32:11.853089Z",
     "iopub.status.busy": "2022-03-21T21:32:11.843842Z",
     "iopub.status.idle": "2022-03-21T21:32:12.341437Z",
     "shell.execute_reply": "2022-03-21T21:32:12.340652Z",
     "shell.execute_reply.started": "2022-03-21T21:31:07.594204Z"
    },
    "papermill": {
     "duration": 0.558426,
     "end_time": "2022-03-21T21:32:12.341568",
     "exception": false,
     "start_time": "2022-03-21T21:32:11.783142",
     "status": "completed"
    },
    "tags": []
   },
   "outputs": [
    {
     "ename": "AttributeError",
     "evalue": "'DataFrame' object has no attribute 'append'",
     "output_type": "error",
     "traceback": [
      "\u001b[1;31m---------------------------------------------------------------------------\u001b[0m",
      "\u001b[1;31mAttributeError\u001b[0m                            Traceback (most recent call last)",
      "\u001b[1;32m~\\AppData\\Local\\Temp\\ipykernel_14296\\2750555006.py\u001b[0m in \u001b[0;36m?\u001b[1;34m()\u001b[0m\n\u001b[0;32m      9\u001b[0m     \u001b[0mdf_new\u001b[0m \u001b[1;33m=\u001b[0m \u001b[0mdf_right\u001b[0m\u001b[1;33m[\u001b[0m\u001b[0mdf_right\u001b[0m\u001b[1;33m[\u001b[0m\u001b[1;34m'frist_week_x'\u001b[0m\u001b[1;33m]\u001b[0m\u001b[1;33m.\u001b[0m\u001b[0misna\u001b[0m\u001b[1;33m(\u001b[0m\u001b[1;33m)\u001b[0m\u001b[1;33m]\u001b[0m\u001b[1;33m\u001b[0m\u001b[1;33m\u001b[0m\u001b[0m\n\u001b[0;32m     10\u001b[0m     \u001b[0mdf_truly_new\u001b[0m \u001b[1;33m=\u001b[0m \u001b[0mdf_new\u001b[0m\u001b[1;33m[\u001b[0m\u001b[0mdf_new\u001b[0m\u001b[1;33m[\u001b[0m\u001b[1;34m'frist_week_y'\u001b[0m\u001b[1;33m]\u001b[0m\u001b[1;33m>=\u001b[0m\u001b[0mi\u001b[0m\u001b[1;33m]\u001b[0m\u001b[1;33m\u001b[0m\u001b[1;33m\u001b[0m\u001b[0m\n\u001b[0;32m     11\u001b[0m     \u001b[0mdf_reactied\u001b[0m \u001b[1;33m=\u001b[0m \u001b[0mdf_new\u001b[0m\u001b[1;33m[\u001b[0m\u001b[0mdf_new\u001b[0m\u001b[1;33m[\u001b[0m\u001b[1;34m'frist_week_y'\u001b[0m\u001b[1;33m]\u001b[0m\u001b[1;33m<\u001b[0m\u001b[0mi\u001b[0m\u001b[1;33m]\u001b[0m\u001b[1;33m\u001b[0m\u001b[1;33m\u001b[0m\u001b[0m\n\u001b[0;32m     12\u001b[0m \u001b[1;33m\u001b[0m\u001b[0m\n\u001b[1;32m---> 13\u001b[1;33m     \u001b[0mdf\u001b[0m \u001b[1;33m=\u001b[0m \u001b[0mdf\u001b[0m\u001b[1;33m.\u001b[0m\u001b[0mappend\u001b[0m\u001b[1;33m(\u001b[0m\u001b[1;33m{\u001b[0m\u001b[1;34m'returning'\u001b[0m\u001b[1;33m:\u001b[0m \u001b[0mlen\u001b[0m\u001b[1;33m(\u001b[0m\u001b[0mdf_returning\u001b[0m\u001b[1;33m)\u001b[0m\u001b[1;33m,\u001b[0m \u001b[1;34m'df_loss'\u001b[0m\u001b[1;33m:\u001b[0m \u001b[0mlen\u001b[0m\u001b[1;33m(\u001b[0m\u001b[0mdf_loss\u001b[0m\u001b[1;33m)\u001b[0m\u001b[1;33m,\u001b[0m \u001b[1;34m'reactived'\u001b[0m\u001b[1;33m:\u001b[0m \u001b[0mlen\u001b[0m\u001b[1;33m(\u001b[0m\u001b[0mdf_reactied\u001b[0m\u001b[1;33m)\u001b[0m\u001b[1;33m,\u001b[0m \u001b[1;34m'new'\u001b[0m\u001b[1;33m:\u001b[0m  \u001b[0mlen\u001b[0m\u001b[1;33m(\u001b[0m\u001b[0mdf_truly_new\u001b[0m\u001b[1;33m)\u001b[0m\u001b[1;33m}\u001b[0m\u001b[1;33m,\u001b[0m \u001b[0mignore_index\u001b[0m\u001b[1;33m=\u001b[0m\u001b[1;32mTrue\u001b[0m\u001b[1;33m)\u001b[0m\u001b[1;33m\u001b[0m\u001b[1;33m\u001b[0m\u001b[0m\n\u001b[0m\u001b[0;32m     14\u001b[0m     \u001b[0mi\u001b[0m \u001b[1;33m+=\u001b[0m \u001b[1;36m1\u001b[0m\u001b[1;33m\u001b[0m\u001b[1;33m\u001b[0m\u001b[0m\n\u001b[0;32m     15\u001b[0m \u001b[1;33m\u001b[0m\u001b[0m\n\u001b[0;32m     16\u001b[0m \u001b[0mdf\u001b[0m\u001b[1;33m[\u001b[0m\u001b[1;34m'loss'\u001b[0m\u001b[1;33m]\u001b[0m \u001b[1;33m=\u001b[0m \u001b[1;33m-\u001b[0m \u001b[0mdf\u001b[0m\u001b[1;33m[\u001b[0m\u001b[1;34m'df_loss'\u001b[0m\u001b[1;33m]\u001b[0m\u001b[1;33m\u001b[0m\u001b[1;33m\u001b[0m\u001b[0m\n",
      "\u001b[1;32mc:\\Users\\Admin\\AppData\\Local\\Programs\\Python\\Python311\\Lib\\site-packages\\pandas\\core\\generic.py\u001b[0m in \u001b[0;36m?\u001b[1;34m(self, name)\u001b[0m\n\u001b[0;32m   6200\u001b[0m             \u001b[1;32mand\u001b[0m \u001b[0mname\u001b[0m \u001b[1;32mnot\u001b[0m \u001b[1;32min\u001b[0m \u001b[0mself\u001b[0m\u001b[1;33m.\u001b[0m\u001b[0m_accessors\u001b[0m\u001b[1;33m\u001b[0m\u001b[1;33m\u001b[0m\u001b[0m\n\u001b[0;32m   6201\u001b[0m             \u001b[1;32mand\u001b[0m \u001b[0mself\u001b[0m\u001b[1;33m.\u001b[0m\u001b[0m_info_axis\u001b[0m\u001b[1;33m.\u001b[0m\u001b[0m_can_hold_identifiers_and_holds_name\u001b[0m\u001b[1;33m(\u001b[0m\u001b[0mname\u001b[0m\u001b[1;33m)\u001b[0m\u001b[1;33m\u001b[0m\u001b[1;33m\u001b[0m\u001b[0m\n\u001b[0;32m   6202\u001b[0m         ):\n\u001b[0;32m   6203\u001b[0m             \u001b[1;32mreturn\u001b[0m \u001b[0mself\u001b[0m\u001b[1;33m[\u001b[0m\u001b[0mname\u001b[0m\u001b[1;33m]\u001b[0m\u001b[1;33m\u001b[0m\u001b[1;33m\u001b[0m\u001b[0m\n\u001b[1;32m-> 6204\u001b[1;33m         \u001b[1;32mreturn\u001b[0m \u001b[0mobject\u001b[0m\u001b[1;33m.\u001b[0m\u001b[0m__getattribute__\u001b[0m\u001b[1;33m(\u001b[0m\u001b[0mself\u001b[0m\u001b[1;33m,\u001b[0m \u001b[0mname\u001b[0m\u001b[1;33m)\u001b[0m\u001b[1;33m\u001b[0m\u001b[1;33m\u001b[0m\u001b[0m\n\u001b[0m",
      "\u001b[1;31mAttributeError\u001b[0m: 'DataFrame' object has no attribute 'append'"
     ]
    }
   ],
   "source": [
    "df = pd.DataFrame({'returning': [], 'df_loss': [], 'reactived': [], 'new': []})\n",
    "i = 1\n",
    "\n",
    "while i < 35 : \n",
    "    df_returning = hh_3week[hh_3week['weekBy3']==i-1][['household_key','frist_week']].merge(hh_3week[hh_3week['weekBy3']==i][['household_key','frist_week']],on = 'household_key', how = 'inner')\n",
    "    df_left = hh_3week[hh_3week['weekBy3']==i-1][['household_key','frist_week']].merge(hh_3week[hh_3week['weekBy3']==i][['household_key','frist_week']],on = 'household_key', how = 'left')\n",
    "    df_loss = df_left[df_left['frist_week_y'].isna()]\n",
    "    df_right = hh_3week[hh_3week['weekBy3']==i-1][['household_key','frist_week']].merge(hh_3week[hh_3week['weekBy3']==i][['household_key','frist_week']],on = 'household_key', how = 'right')\n",
    "    df_new = df_right[df_right['frist_week_x'].isna()]\n",
    "    df_truly_new = df_new[df_new['frist_week_y']>=i]\n",
    "    df_reactied = df_new[df_new['frist_week_y']<i]\n",
    "\n",
    "    df = df.append({'returning': len(df_returning), 'df_loss': len(df_loss), 'reactived': len(df_reactied), 'new':  len(df_truly_new)}, ignore_index=True)\n",
    "    i += 1\n",
    "\n",
    "df['loss'] = - df['df_loss']\n",
    "df['new_hh'] = df['returning']+df['reactived']+df['new']\n",
    "df['reactived_hh'] = df['returning']+df['reactived']\n",
    "\n",
    "df = df[['new_hh','reactived_hh','returning','loss']]"
   ]
  },
  {
   "cell_type": "code",
   "execution_count": null,
   "id": "029acf1c",
   "metadata": {
    "execution": {
     "iopub.execute_input": "2022-03-21T21:32:12.468075Z",
     "iopub.status.busy": "2022-03-21T21:32:12.461989Z",
     "iopub.status.idle": "2022-03-21T21:32:13.094895Z",
     "shell.execute_reply": "2022-03-21T21:32:13.095310Z",
     "shell.execute_reply.started": "2022-03-21T21:31:08.095707Z"
    },
    "papermill": {
     "duration": 0.700266,
     "end_time": "2022-03-21T21:32:13.095468",
     "exception": false,
     "start_time": "2022-03-21T21:32:12.395202",
     "status": "completed"
    },
    "tags": []
   },
   "outputs": [
    {
     "data": {
      "image/png": "[encoded data removed]",
      "text/plain": [
       "<Figure size 1800x360 with 1 Axes>"
      ]
     },
     "metadata": {
      "needs_background": "light"
     },
     "output_type": "display_data"
    }
   ],
   "source": [
    "plt.figure(figsize = (25,5))\n",
    "\n",
    "plt.title(\"New VS loss VS stay Household by groups of 3 weeks\",fontsize = 20)\n",
    "plt.xticks(np.arange(1, 35, step=1))\n",
    "plt.bar(range(1,35,1), df['new_hh'], color = 'green',label = \"new household\")\n",
    "plt.bar(range(1,35,1), df['reactived_hh'] ,color = 'orange',label = 'reactived household')\n",
    "plt.bar(range(1,35,1), df['returning'],color = 'blue',label = 'returning')\n",
    "plt.bar(range(1,35,1), df['loss'],color = 'red',label = 'lost household')\n",
    "plt.xlabel(\"week by 3\")\n",
    "plt.ylabel(\"\")\n",
    "plt.legend();"
   ]
  },
  {
   "cell_type": "markdown",
   "id": "b7196b80",
   "metadata": {
    "papermill": {
     "duration": 0.053193,
     "end_time": "2022-03-21T21:32:13.201263",
     "exception": false,
     "start_time": "2022-03-21T21:32:13.148070",
     "status": "completed"
    },
    "tags": []
   },
   "source": [
    "**Household demographic analysis :**"
   ]
  },
  {
   "cell_type": "code",
   "execution_count": null,
   "id": "da5ba9c3",
   "metadata": {
    "execution": {
     "iopub.execute_input": "2022-03-21T21:32:13.329309Z",
     "iopub.status.busy": "2022-03-21T21:32:13.328280Z",
     "iopub.status.idle": "2022-03-21T21:32:13.330298Z",
     "shell.execute_reply": "2022-03-21T21:32:13.330741Z",
     "shell.execute_reply.started": "2022-03-21T21:31:08.728490Z"
    },
    "papermill": {
     "duration": 0.073431,
     "end_time": "2022-03-21T21:32:13.330913",
     "exception": false,
     "start_time": "2022-03-21T21:32:13.257482",
     "status": "completed"
    },
    "tags": []
   },
   "outputs": [],
   "source": [
    "def pie_categorical(data):\n",
    "    #function to plot the histogram of categorical variables in pie graph\n",
    "    features = data.columns\n",
    "    #plot pie charts of categorical variables\n",
    "    fig_pie_cat = plt.figure(figsize=(15,15))\n",
    "    count = 1\n",
    "    #calculate dynamic numbers of subplot rows and columns\n",
    "    cols = int(np.ceil(np.sqrt(len(features))))\n",
    "    rows = int(np.ceil(len(features)/cols))\n",
    "    for i in features:\n",
    "        ax = fig_pie_cat.add_subplot(rows,cols,count)\n",
    "        data[i].value_counts().plot(kind=\"pie\",autopct=\"%.1f%%\",ax=ax)\n",
    "        plt.ylabel(\"\")\n",
    "        plt.title(i,fontweight=\"bold\",fontsize=8)\n",
    "        count += 1\n",
    "\n",
    "def hist_numeric(data):\n",
    "    #function to plot the histogram of numeric variables\n",
    "    features = data.columns\n",
    "    fig_hists = plt.figure(figsize=(15,15))\n",
    "    fig_hists.subplots_adjust(hspace=0.5,wspace=0.5)\n",
    "    count = 1\n",
    "    #calculate dynamic numbers of subplot rows and columns\n",
    "    cols = int(np.ceil(np.sqrt(len(features))))\n",
    "    rows = int(np.ceil(len(features)/cols))\n",
    "    for i in features:\n",
    "        ax = fig_hists.add_subplot(rows,cols,count)\n",
    "        data[i].plot(kind=\"hist\",alpha=.5,bins=25,edgecolor=\"navy\",legend=False,ax=ax)\n",
    "        ax.set_xlabel(\"\")\n",
    "        ax.set_title(i,fontweight=\"bold\",fontsize=10)\n",
    "        count += 1"
   ]
  },
  {
   "cell_type": "code",
   "execution_count": null,
   "id": "d4160ec5",
   "metadata": {
    "execution": {
     "iopub.execute_input": "2022-03-21T21:32:13.468010Z",
     "iopub.status.busy": "2022-03-21T21:32:13.467315Z",
     "iopub.status.idle": "2022-03-21T21:32:14.350461Z",
     "shell.execute_reply": "2022-03-21T21:32:14.350884Z",
     "shell.execute_reply.started": "2022-03-21T21:31:08.740173Z"
    },
    "papermill": {
     "duration": 0.957947,
     "end_time": "2022-03-21T21:32:14.351035",
     "exception": false,
     "start_time": "2022-03-21T21:32:13.393088",
     "status": "completed"
    },
    "tags": []
   },
   "outputs": [
    {
     "data": {
      "image/png": "[encoded data removed]",
      "text/plain": [
       "<Figure size 1080x1080 with 7 Axes>"
      ]
     },
     "metadata": {},
     "output_type": "display_data"
    }
   ],
   "source": [
    "pie_categorical(hh_demographic.drop(\"household_key\",axis=1))"
   ]
  },
  {
   "cell_type": "code",
   "execution_count": null,
   "id": "944c7938",
   "metadata": {
    "execution": {
     "iopub.execute_input": "2022-03-21T21:32:14.480039Z",
     "iopub.status.busy": "2022-03-21T21:32:14.479238Z",
     "iopub.status.idle": "2022-03-21T21:32:14.826578Z",
     "shell.execute_reply": "2022-03-21T21:32:14.827102Z",
     "shell.execute_reply.started": "2022-03-21T21:31:09.639424Z"
    },
    "papermill": {
     "duration": 0.417148,
     "end_time": "2022-03-21T21:32:14.827265",
     "exception": false,
     "start_time": "2022-03-21T21:32:14.410117",
     "status": "completed"
    },
    "tags": []
   },
   "outputs": [
    {
     "data": {
      "text/html": [
       "<div>\n",
       "<style scoped>\n",
       "    .dataframe tbody tr th:only-of-type {\n",
       "        vertical-align: middle;\n",
       "    }\n",
       "\n",
       "    .dataframe tbody tr th {\n",
       "        vertical-align: top;\n",
       "    }\n",
       "\n",
       "    .dataframe thead th {\n",
       "        text-align: right;\n",
       "    }\n",
       "</style>\n",
       "<table border=\"1\" class=\"dataframe\">\n",
       "  <thead>\n",
       "    <tr style=\"text-align: right;\">\n",
       "      <th></th>\n",
       "      <th>AGE_DESC</th>\n",
       "      <th>MARITAL_STATUS_CODE</th>\n",
       "      <th>INCOME_DESC</th>\n",
       "      <th>HOMEOWNER_DESC</th>\n",
       "      <th>HH_COMP_DESC</th>\n",
       "      <th>HOUSEHOLD_SIZE_DESC</th>\n",
       "      <th>KID_CATEGORY_DESC</th>\n",
       "      <th>household_key</th>\n",
       "      <th>DAY_nb</th>\n",
       "      <th>frequency</th>\n",
       "      <th>SALES_VALUE_day</th>\n",
       "      <th>RETAIL_DISC_day</th>\n",
       "      <th>nb_coupon</th>\n",
       "      <th>COUPON_DISC_day</th>\n",
       "      <th>Use_coupon</th>\n",
       "    </tr>\n",
       "  </thead>\n",
       "  <tbody>\n",
       "    <tr>\n",
       "      <th>0</th>\n",
       "      <td>65+</td>\n",
       "      <td>A</td>\n",
       "      <td>35-49K</td>\n",
       "      <td>Homeowner</td>\n",
       "      <td>2 Adults No Kids</td>\n",
       "      <td>2</td>\n",
       "      <td>None/Unknown</td>\n",
       "      <td>1</td>\n",
       "      <td>79</td>\n",
       "      <td>8.3</td>\n",
       "      <td>54.81</td>\n",
       "      <td>-8.82</td>\n",
       "      <td>106.0</td>\n",
       "      <td>-1.02</td>\n",
       "      <td>True</td>\n",
       "    </tr>\n",
       "    <tr>\n",
       "      <th>1</th>\n",
       "      <td>45-54</td>\n",
       "      <td>A</td>\n",
       "      <td>50-74K</td>\n",
       "      <td>Homeowner</td>\n",
       "      <td>2 Adults No Kids</td>\n",
       "      <td>2</td>\n",
       "      <td>None/Unknown</td>\n",
       "      <td>7</td>\n",
       "      <td>59</td>\n",
       "      <td>11.6</td>\n",
       "      <td>57.63</td>\n",
       "      <td>-8.18</td>\n",
       "      <td>27.0</td>\n",
       "      <td>-0.52</td>\n",
       "      <td>True</td>\n",
       "    </tr>\n",
       "    <tr>\n",
       "      <th>2</th>\n",
       "      <td>25-34</td>\n",
       "      <td>U</td>\n",
       "      <td>25-34K</td>\n",
       "      <td>Unknown</td>\n",
       "      <td>2 Adults Kids</td>\n",
       "      <td>3</td>\n",
       "      <td>1</td>\n",
       "      <td>8</td>\n",
       "      <td>103</td>\n",
       "      <td>6.2</td>\n",
       "      <td>53.74</td>\n",
       "      <td>-10.47</td>\n",
       "      <td>24.0</td>\n",
       "      <td>-0.28</td>\n",
       "      <td>True</td>\n",
       "    </tr>\n",
       "    <tr>\n",
       "      <th>3</th>\n",
       "      <td>25-34</td>\n",
       "      <td>U</td>\n",
       "      <td>75-99K</td>\n",
       "      <td>Homeowner</td>\n",
       "      <td>2 Adults Kids</td>\n",
       "      <td>4</td>\n",
       "      <td>2</td>\n",
       "      <td>13</td>\n",
       "      <td>203</td>\n",
       "      <td>3.0</td>\n",
       "      <td>64.98</td>\n",
       "      <td>-8.02</td>\n",
       "      <td>300.0</td>\n",
       "      <td>-1.52</td>\n",
       "      <td>True</td>\n",
       "    </tr>\n",
       "    <tr>\n",
       "      <th>4</th>\n",
       "      <td>45-54</td>\n",
       "      <td>B</td>\n",
       "      <td>50-74K</td>\n",
       "      <td>Homeowner</td>\n",
       "      <td>Single Female</td>\n",
       "      <td>1</td>\n",
       "      <td>None/Unknown</td>\n",
       "      <td>16</td>\n",
       "      <td>90</td>\n",
       "      <td>6.6</td>\n",
       "      <td>16.80</td>\n",
       "      <td>-1.90</td>\n",
       "      <td>1.0</td>\n",
       "      <td>-0.01</td>\n",
       "      <td>True</td>\n",
       "    </tr>\n",
       "  </tbody>\n",
       "</table>\n",
       "</div>"
      ],
      "text/plain": [
       "  AGE_DESC MARITAL_STATUS_CODE INCOME_DESC HOMEOWNER_DESC      HH_COMP_DESC  \\\n",
       "0      65+                   A      35-49K      Homeowner  2 Adults No Kids   \n",
       "1    45-54                   A      50-74K      Homeowner  2 Adults No Kids   \n",
       "2    25-34                   U      25-34K        Unknown     2 Adults Kids   \n",
       "3    25-34                   U      75-99K      Homeowner     2 Adults Kids   \n",
       "4    45-54                   B      50-74K      Homeowner     Single Female   \n",
       "\n",
       "  HOUSEHOLD_SIZE_DESC KID_CATEGORY_DESC  household_key  DAY_nb  frequency  \\\n",
       "0                   2      None/Unknown              1      79        8.3   \n",
       "1                   2      None/Unknown              7      59       11.6   \n",
       "2                   3                 1              8     103        6.2   \n",
       "3                   4                 2             13     203        3.0   \n",
       "4                   1      None/Unknown             16      90        6.6   \n",
       "\n",
       "   SALES_VALUE_day  RETAIL_DISC_day  nb_coupon  COUPON_DISC_day  Use_coupon  \n",
       "0            54.81            -8.82      106.0            -1.02        True  \n",
       "1            57.63            -8.18       27.0            -0.52        True  \n",
       "2            53.74           -10.47       24.0            -0.28        True  \n",
       "3            64.98            -8.02      300.0            -1.52        True  \n",
       "4            16.80            -1.90        1.0            -0.01        True  "
      ]
     },
     "execution_count": 34,
     "metadata": {},
     "output_type": "execute_result"
    }
   ],
   "source": [
    "## household groupby day\n",
    "hh_day = transaction_data.groupby(['household_key','DAY'],as_index = False).agg(SALES_VALUE = ('SALES_VALUE', 'sum'),RETAIL_DISC = ('RETAIL_DISC', 'sum'),COUPON_DISC = ('COUPON_DISC', 'sum'),DAY_MAX = ('DAY','max'),DAY_MIN = ('DAY','min'))\n",
    "\n",
    "## groupby household\n",
    "hh_table = hh_day.groupby('household_key',as_index = False).agg(SALES_VALUE = ('SALES_VALUE', 'sum'),RETAIL_DISC = ('RETAIL_DISC', 'sum'),COUPON_DISC = ('COUPON_DISC', 'sum'),DAY_nb = ('DAY','count'),DAY_MAX = ('DAY','max'),DAY_MIN = ('DAY','min'))\n",
    "hh_table['SALES_VALUE_day'] = round(hh_table['SALES_VALUE']/hh_table['DAY_nb'],2)\n",
    "hh_table['RETAIL_DISC_day'] = round(hh_table['RETAIL_DISC']/hh_table['DAY_nb'],2)\n",
    "hh_table['COUPON_DISC_day'] = round(hh_table['COUPON_DISC']/hh_table['DAY_nb'],2)\n",
    "hh_table['frequency'] = round(((hh_table['DAY_MAX']-hh_table['DAY_MIN'])/hh_table['DAY_nb']),1)\n",
    "hh_table['Use_coupon'] = hh_table['COUPON_DISC'] != 0\n",
    "\n",
    "count_coupon = transaction_data[transaction_data['COUPON_DISC'] != 0]\n",
    "hh_coupon = count_coupon.groupby('household_key',as_index = False).agg(nb_coupon = ('COUPON_DISC', 'count'))\n",
    "\n",
    "hh_table = hh_table.merge(hh_coupon, on = 'household_key', how = 'left')\n",
    "\n",
    "hh_table = hh_table[['household_key','DAY_nb','frequency','SALES_VALUE_day','RETAIL_DISC_day','nb_coupon','COUPON_DISC_day','Use_coupon']]\n",
    "hh_table['nb_coupon'] = hh_table['nb_coupon'].fillna(0)\n",
    "\n",
    "hh_demographic_table = hh_demographic.merge(hh_table, on = 'household_key', how = 'left')\n",
    "hh_demographic_table.head()"
   ]
  },
  {
   "cell_type": "code",
   "execution_count": null,
   "id": "ac566c50",
   "metadata": {
    "execution": {
     "iopub.execute_input": "2022-03-21T21:32:14.967572Z",
     "iopub.status.busy": "2022-03-21T21:32:14.966560Z",
     "iopub.status.idle": "2022-03-21T21:32:15.430121Z",
     "shell.execute_reply": "2022-03-21T21:32:15.429654Z",
     "shell.execute_reply.started": "2022-03-21T21:31:09.984562Z"
    },
    "papermill": {
     "duration": 0.542949,
     "end_time": "2022-03-21T21:32:15.430253",
     "exception": false,
     "start_time": "2022-03-21T21:32:14.887304",
     "status": "completed"
    },
    "tags": []
   },
   "outputs": [
    {
     "data": {
      "image/png": "[encoded data removed]",
      "text/plain": [
       "<Figure size 1800x360 with 1 Axes>"
      ]
     },
     "metadata": {
      "needs_background": "light"
     },
     "output_type": "display_data"
    }
   ],
   "source": [
    "plt.figure(figsize = (25,5))\n",
    "\n",
    "hist = plt.hist(hh_demographic_table['nb_coupon'],bins = 100)\n",
    "#plt.title('Household shopping frequency', fontsize = 20)"
   ]
  }
 ],
 "metadata": {
  "kernelspec": {
   "display_name": "Python 3",
   "language": "python",
   "name": "python3"
  },
  "language_info": {
   "codemirror_mode": {
    "name": "ipython",
    "version": 3
   },
   "file_extension": ".py",
   "mimetype": "text/x-python",
   "name": "python",
   "nbconvert_exporter": "python",
   "pygments_lexer": "ipython3",
   "version": "3.11.5"
  },
  "papermill": {
   "default_parameters": {},
   "duration": 27.96647,
   "end_time": "2022-03-21T21:32:16.095946",
   "environment_variables": {},
   "exception": null,
   "input_path": "__notebook__.ipynb",
   "output_path": "__notebook__.ipynb",
   "parameters": {},
   "start_time": "2022-03-21T21:31:48.129476",
   "version": "2.3.3"
  }
 },
 "nbformat": 4,
 "nbformat_minor": 5
}
